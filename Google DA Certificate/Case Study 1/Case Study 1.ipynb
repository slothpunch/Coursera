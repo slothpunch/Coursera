{
 "cells": [
  {
   "cell_type": "code",
   "execution_count": 1,
   "id": "0e1cf5c2",
   "metadata": {},
   "outputs": [],
   "source": [
    "import pandas as pd\n",
    "import numpy as np\n",
    "# from datetime import *\n",
    "\n",
    "import matplotlib.pyplot as plt\n",
    "import seaborn as sns\n",
    "%matplotlib inline"
   ]
  },
  {
   "cell_type": "code",
   "execution_count": 2,
   "id": "b0226468",
   "metadata": {},
   "outputs": [
    {
     "name": "stdout",
     "output_type": "stream",
     "text": [
      " Volume in drive C has no label.\n",
      " Volume Serial Number is 72D0-BC6E\n",
      "\n",
      " Directory of C:\\Users\\GIS\\Documents\\A.Udemy\\Python\\Coursera\n",
      "\n",
      "03/11/2021  07:43 AM    <DIR>          .\n",
      "03/11/2021  07:43 AM    <DIR>          ..\n",
      "01/11/2021  01:38 PM    <DIR>          .ipynb_checkpoints\n",
      "05/11/2020  12:04 AM        69,333,608 202010-divvy-tripdata.csv\n",
      "05/12/2020  09:08 AM        46,203,255 202011-divvy-tripdata.csv\n",
      "06/01/2021  12:43 AM        25,031,027 202012-divvy-tripdata.csv\n",
      "05/02/2021  08:42 AM        18,391,685 202101-divvy-tripdata.csv\n",
      "10/03/2021  10:41 AM         9,365,975 202102-divvy-tripdata.csv\n",
      "09/04/2021  01:17 AM        43,555,310 202103-divvy-tripdata.csv\n",
      "08/05/2021  01:03 AM        64,035,536 202104-divvy-tripdata.csv\n",
      "12/06/2021  01:34 AM        99,896,575 202105-divvy-tripdata.csv\n",
      "16/07/2021  09:45 AM       136,439,093 202106-divvy-tripdata.csv\n",
      "14/08/2021  04:42 PM       154,040,041 202107-divvy-tripdata.csv\n",
      "03/09/2021  08:09 AM       150,970,305 202108-divvy-tripdata.csv\n",
      "05/10/2021  03:02 AM       141,130,996 202109-divvy-tripdata.csv\n",
      "03/11/2021  07:40 AM            92,576 Case Study 1.ipynb\n",
      "02/11/2021  04:49 PM     1,056,898,058 Cyclistic_202010_202109.csv\n",
      "01/11/2021  03:18 PM             8,367 data_pd_concat.ipynb\n",
      "01/11/2021  02:47 PM       969,186,266 Divvy_Trips_202010_202109.csv\n",
      "02/11/2021  04:34 PM     1,056,235,761 finally.csv\n",
      "              17 File(s)  4,040,814,434 bytes\n",
      "               3 Dir(s)  69,932,687,360 bytes free\n"
     ]
    }
   ],
   "source": [
    "%ls"
   ]
  },
  {
   "cell_type": "code",
   "execution_count": 3,
   "id": "f3b84eb2",
   "metadata": {},
   "outputs": [
    {
     "name": "stderr",
     "output_type": "stream",
     "text": [
      "D:\\Anaconda3\\lib\\site-packages\\IPython\\core\\interactiveshell.py:3441: DtypeWarning: Columns (6,8) have mixed types.Specify dtype option on import or set low_memory=False.\n",
      "  exec(code_obj, self.user_global_ns, self.user_ns)\n"
     ]
    },
    {
     "data": {
      "text/html": [
       "<div>\n",
       "<style scoped>\n",
       "    .dataframe tbody tr th:only-of-type {\n",
       "        vertical-align: middle;\n",
       "    }\n",
       "\n",
       "    .dataframe tbody tr th {\n",
       "        vertical-align: top;\n",
       "    }\n",
       "\n",
       "    .dataframe thead th {\n",
       "        text-align: right;\n",
       "    }\n",
       "</style>\n",
       "<table border=\"1\" class=\"dataframe\">\n",
       "  <thead>\n",
       "    <tr style=\"text-align: right;\">\n",
       "      <th></th>\n",
       "      <th>Unnamed: 0</th>\n",
       "      <th>ride_id</th>\n",
       "      <th>rideable_type</th>\n",
       "      <th>started_at</th>\n",
       "      <th>ended_at</th>\n",
       "      <th>start_station_name</th>\n",
       "      <th>start_station_id</th>\n",
       "      <th>end_station_name</th>\n",
       "      <th>end_station_id</th>\n",
       "      <th>start_lat</th>\n",
       "      <th>start_lng</th>\n",
       "      <th>end_lat</th>\n",
       "      <th>end_lng</th>\n",
       "      <th>member_casual</th>\n",
       "      <th>riding_days</th>\n",
       "      <th>riding_time</th>\n",
       "    </tr>\n",
       "  </thead>\n",
       "  <tbody>\n",
       "    <tr>\n",
       "      <th>0</th>\n",
       "      <td>0</td>\n",
       "      <td>ACB6B40CF5B9044C</td>\n",
       "      <td>electric_bike</td>\n",
       "      <td>2020-10-31 19:39:43</td>\n",
       "      <td>2020-10-31 19:57:12</td>\n",
       "      <td>Lakeview Ave &amp; Fullerton Pkwy</td>\n",
       "      <td>313.0</td>\n",
       "      <td>Rush St &amp; Hubbard St</td>\n",
       "      <td>125.0</td>\n",
       "      <td>41.926101</td>\n",
       "      <td>-87.638977</td>\n",
       "      <td>41.890345</td>\n",
       "      <td>-87.626068</td>\n",
       "      <td>casual</td>\n",
       "      <td>0</td>\n",
       "      <td>00:17:29</td>\n",
       "    </tr>\n",
       "    <tr>\n",
       "      <th>1</th>\n",
       "      <td>1</td>\n",
       "      <td>DF450C72FD109C01</td>\n",
       "      <td>electric_bike</td>\n",
       "      <td>2020-10-31 23:50:08</td>\n",
       "      <td>2020-11-01 00:04:16</td>\n",
       "      <td>Southport Ave &amp; Waveland Ave</td>\n",
       "      <td>227.0</td>\n",
       "      <td>Kedzie Ave &amp; Milwaukee Ave</td>\n",
       "      <td>260.0</td>\n",
       "      <td>41.948172</td>\n",
       "      <td>-87.663911</td>\n",
       "      <td>41.929528</td>\n",
       "      <td>-87.707818</td>\n",
       "      <td>casual</td>\n",
       "      <td>0</td>\n",
       "      <td>00:14:08</td>\n",
       "    </tr>\n",
       "    <tr>\n",
       "      <th>2</th>\n",
       "      <td>2</td>\n",
       "      <td>B6396B54A15AC0DF</td>\n",
       "      <td>electric_bike</td>\n",
       "      <td>2020-10-31 23:00:01</td>\n",
       "      <td>2020-10-31 23:08:22</td>\n",
       "      <td>Stony Island Ave &amp; 67th St</td>\n",
       "      <td>102.0</td>\n",
       "      <td>University Ave &amp; 57th St</td>\n",
       "      <td>423.0</td>\n",
       "      <td>41.773462</td>\n",
       "      <td>-87.585372</td>\n",
       "      <td>41.791455</td>\n",
       "      <td>-87.600050</td>\n",
       "      <td>casual</td>\n",
       "      <td>0</td>\n",
       "      <td>00:08:21</td>\n",
       "    </tr>\n",
       "    <tr>\n",
       "      <th>3</th>\n",
       "      <td>3</td>\n",
       "      <td>44A4AEE261B9E854</td>\n",
       "      <td>electric_bike</td>\n",
       "      <td>2020-10-31 22:16:43</td>\n",
       "      <td>2020-10-31 22:19:35</td>\n",
       "      <td>Clark St &amp; Grace St</td>\n",
       "      <td>165.0</td>\n",
       "      <td>Broadway &amp; Sheridan Rd</td>\n",
       "      <td>256.0</td>\n",
       "      <td>41.950855</td>\n",
       "      <td>-87.659244</td>\n",
       "      <td>41.952809</td>\n",
       "      <td>-87.650103</td>\n",
       "      <td>casual</td>\n",
       "      <td>0</td>\n",
       "      <td>00:02:52</td>\n",
       "    </tr>\n",
       "    <tr>\n",
       "      <th>4</th>\n",
       "      <td>4</td>\n",
       "      <td>10B7DD76A6A2EB95</td>\n",
       "      <td>electric_bike</td>\n",
       "      <td>2020-10-31 19:38:19</td>\n",
       "      <td>2020-10-31 19:54:32</td>\n",
       "      <td>Southport Ave &amp; Wrightwood Ave</td>\n",
       "      <td>190.0</td>\n",
       "      <td>Stave St &amp; Armitage Ave</td>\n",
       "      <td>185.0</td>\n",
       "      <td>41.928857</td>\n",
       "      <td>-87.663962</td>\n",
       "      <td>41.917777</td>\n",
       "      <td>-87.691434</td>\n",
       "      <td>casual</td>\n",
       "      <td>0</td>\n",
       "      <td>00:16:13</td>\n",
       "    </tr>\n",
       "  </tbody>\n",
       "</table>\n",
       "</div>"
      ],
      "text/plain": [
       "   Unnamed: 0           ride_id  rideable_type           started_at  \\\n",
       "0           0  ACB6B40CF5B9044C  electric_bike  2020-10-31 19:39:43   \n",
       "1           1  DF450C72FD109C01  electric_bike  2020-10-31 23:50:08   \n",
       "2           2  B6396B54A15AC0DF  electric_bike  2020-10-31 23:00:01   \n",
       "3           3  44A4AEE261B9E854  electric_bike  2020-10-31 22:16:43   \n",
       "4           4  10B7DD76A6A2EB95  electric_bike  2020-10-31 19:38:19   \n",
       "\n",
       "              ended_at              start_station_name start_station_id  \\\n",
       "0  2020-10-31 19:57:12   Lakeview Ave & Fullerton Pkwy            313.0   \n",
       "1  2020-11-01 00:04:16    Southport Ave & Waveland Ave            227.0   \n",
       "2  2020-10-31 23:08:22      Stony Island Ave & 67th St            102.0   \n",
       "3  2020-10-31 22:19:35             Clark St & Grace St            165.0   \n",
       "4  2020-10-31 19:54:32  Southport Ave & Wrightwood Ave            190.0   \n",
       "\n",
       "             end_station_name end_station_id  start_lat  start_lng    end_lat  \\\n",
       "0        Rush St & Hubbard St          125.0  41.926101 -87.638977  41.890345   \n",
       "1  Kedzie Ave & Milwaukee Ave          260.0  41.948172 -87.663911  41.929528   \n",
       "2    University Ave & 57th St          423.0  41.773462 -87.585372  41.791455   \n",
       "3      Broadway & Sheridan Rd          256.0  41.950855 -87.659244  41.952809   \n",
       "4     Stave St & Armitage Ave          185.0  41.928857 -87.663962  41.917777   \n",
       "\n",
       "     end_lng member_casual  riding_days riding_time  \n",
       "0 -87.626068        casual            0    00:17:29  \n",
       "1 -87.707818        casual            0    00:14:08  \n",
       "2 -87.600050        casual            0    00:08:21  \n",
       "3 -87.650103        casual            0    00:02:52  \n",
       "4 -87.691434        casual            0    00:16:13  "
      ]
     },
     "execution_count": 3,
     "metadata": {},
     "output_type": "execute_result"
    }
   ],
   "source": [
    "df = pd.read_csv(\"Cyclistic_202010_202109.csv\")\n",
    "df.head()"
   ]
  },
  {
   "cell_type": "code",
   "execution_count": 4,
   "id": "0bba3b76",
   "metadata": {},
   "outputs": [
    {
     "name": "stdout",
     "output_type": "stream",
     "text": [
      "<class 'pandas.core.frame.DataFrame'>\n",
      "RangeIndex: 5136261 entries, 0 to 5136260\n",
      "Data columns (total 16 columns):\n",
      " #   Column              Dtype  \n",
      "---  ------              -----  \n",
      " 0   Unnamed: 0          int64  \n",
      " 1   ride_id             object \n",
      " 2   rideable_type       object \n",
      " 3   started_at          object \n",
      " 4   ended_at            object \n",
      " 5   start_station_name  object \n",
      " 6   start_station_id    object \n",
      " 7   end_station_name    object \n",
      " 8   end_station_id      object \n",
      " 9   start_lat           float64\n",
      " 10  start_lng           float64\n",
      " 11  end_lat             float64\n",
      " 12  end_lng             float64\n",
      " 13  member_casual       object \n",
      " 14  riding_days         int64  \n",
      " 15  riding_time         object \n",
      "dtypes: float64(4), int64(2), object(10)\n",
      "memory usage: 627.0+ MB\n"
     ]
    }
   ],
   "source": [
    "df.info()"
   ]
  },
  {
   "cell_type": "code",
   "execution_count": 8,
   "id": "da159daa",
   "metadata": {},
   "outputs": [
    {
     "data": {
      "text/plain": [
       "0"
      ]
     },
     "execution_count": 8,
     "metadata": {},
     "output_type": "execute_result"
    }
   ],
   "source": [
    "# Check any duplicates\n",
    "df.duplicated().sum()"
   ]
  },
  {
   "cell_type": "markdown",
   "id": "6e99af47",
   "metadata": {},
   "source": [
    "# 3. Process\n",
    "1. Create a column called ride_length\n",
    "2. Create a column called day_of_week"
   ]
  },
  {
   "cell_type": "markdown",
   "id": "46c3aafc",
   "metadata": {},
   "source": [
    "### 3-1. Add ride_length\n",
    "* ride_length = ended_at - started_at\n",
    "* Format as HH:MM:SS"
   ]
  },
  {
   "cell_type": "code",
   "execution_count": 12,
   "id": "ca0045f1",
   "metadata": {},
   "outputs": [],
   "source": [
    "df['started_at'] = pd.to_datetime(df['started_at'])\n",
    "df['ended_at'] = pd.to_datetime(df['ended_at'])"
   ]
  },
  {
   "cell_type": "code",
   "execution_count": 6,
   "id": "8bd3566d",
   "metadata": {},
   "outputs": [],
   "source": [
    "# https://stackoverflow.com/questions/31929538/how-to-subtract-datetimes-timestamps-in-python/31929686\n",
    "# https://stackoverflow.com/questions/22923775/calculate-time-difference-between-two-pandas-columns-in-hours-and-minutes\n",
    "# https://stackoverflow.com/questions/63371428/how-to-convert-a-string-to-timestamp-in-pandas\n",
    "\n",
    "# Change type of data from object to datetime to compute ride_length\n",
    "df['started_at'] = pd.to_datetime(df['started_at'], format='%Y/%m/%d %H:%M:%S')\n",
    "df['ended_at'] = pd.to_datetime(df['ended_at'], format='%Y/%m/%d %H:%M:%S')"
   ]
  },
  {
   "cell_type": "code",
   "execution_count": 7,
   "id": "c6db240a",
   "metadata": {},
   "outputs": [
    {
     "name": "stdout",
     "output_type": "stream",
     "text": [
      "<class 'pandas.core.frame.DataFrame'>\n",
      "RangeIndex: 5136261 entries, 0 to 5136260\n",
      "Data columns (total 13 columns):\n",
      " #   Column              Dtype         \n",
      "---  ------              -----         \n",
      " 0   ride_id             object        \n",
      " 1   rideable_type       object        \n",
      " 2   started_at          datetime64[ns]\n",
      " 3   ended_at            datetime64[ns]\n",
      " 4   start_station_name  object        \n",
      " 5   start_station_id    object        \n",
      " 6   end_station_name    object        \n",
      " 7   end_station_id      object        \n",
      " 8   start_lat           float64       \n",
      " 9   start_lng           float64       \n",
      " 10  end_lat             float64       \n",
      " 11  end_lng             float64       \n",
      " 12  member_casual       object        \n",
      "dtypes: datetime64[ns](2), float64(4), object(7)\n",
      "memory usage: 509.4+ MB\n"
     ]
    }
   ],
   "source": [
    "df.info()"
   ]
  },
  {
   "cell_type": "markdown",
   "id": "b7ba2069",
   "metadata": {},
   "source": [
    "There are - sign in days (-21 days) with + sign in time (+19:50:02)\n",
    "\n",
    "As ride_length contains days and time, I'm going to make to columns **riding_days** and **riding_time**\n",
    ", and store days and time separately. "
   ]
  },
  {
   "cell_type": "code",
   "execution_count": 37,
   "id": "20658669",
   "metadata": {},
   "outputs": [
    {
     "data": {
      "text/plain": [
       "2616215   38 days 20:24:09\n",
       "2566009   38 days 16:11:41\n",
       "1535226   37 days 10:41:36\n",
       "2102247   36 days 14:21:23\n",
       "3390459   34 days 02:27:09\n",
       "                ...       \n",
       "1949994    0 days 00:00:00\n",
       "1564331    0 days 00:00:00\n",
       "1707147    0 days 00:00:00\n",
       "2904893    0 days 00:00:00\n",
       "1222860    0 days 00:00:00\n",
       "Length: 5136261, dtype: timedelta64[ns]"
      ]
     },
     "execution_count": 37,
     "metadata": {},
     "output_type": "execute_result"
    }
   ],
   "source": [
    "# Calculate riding time \n",
    "(df.ended_at - df.started_at).sort_values(ascending = False)"
   ]
  },
  {
   "cell_type": "markdown",
   "id": "4112b585",
   "metadata": {},
   "source": [
    "Add the **riding_days** and **riding_time** columns, and then take out the data contaning - and + signs in the two columns."
   ]
  },
  {
   "cell_type": "code",
   "execution_count": 193,
   "id": "b2ff0fdf",
   "metadata": {},
   "outputs": [
    {
     "data": {
      "text/plain": [
       "0         0 days 00:17:29\n",
       "1         0 days 00:14:08\n",
       "2         0 days 00:08:21\n",
       "3         0 days 00:02:52\n",
       "4         0 days 00:16:13\n",
       "                ...      \n",
       "4964004   0 days 00:00:10\n",
       "5000204   0 days 00:01:11\n",
       "5006200   0 days 00:03:41\n",
       "5012090   0 days 00:03:18\n",
       "5089749   0 days 00:04:29\n",
       "Length: 5136261, dtype: timedelta64[ns]"
      ]
     },
     "execution_count": 193,
     "metadata": {},
     "output_type": "execute_result"
    }
   ],
   "source": [
    "(df['ended_at'] - df['started_at'])"
   ]
  },
  {
   "cell_type": "code",
   "execution_count": 14,
   "id": "bc0e0d25",
   "metadata": {},
   "outputs": [
    {
     "name": "stdout",
     "output_type": "stream",
     "text": [
      "<class 'pandas.core.frame.DataFrame'>\n",
      "RangeIndex: 5136261 entries, 0 to 5136260\n",
      "Data columns (total 15 columns):\n",
      " #   Column              Dtype         \n",
      "---  ------              -----         \n",
      " 0   ride_id             object        \n",
      " 1   rideable_type       object        \n",
      " 2   started_at          datetime64[ns]\n",
      " 3   ended_at            datetime64[ns]\n",
      " 4   start_station_name  object        \n",
      " 5   start_station_id    object        \n",
      " 6   end_station_name    object        \n",
      " 7   end_station_id      object        \n",
      " 8   start_lat           float64       \n",
      " 9   start_lng           float64       \n",
      " 10  end_lat             float64       \n",
      " 11  end_lng             float64       \n",
      " 12  member_casual       object        \n",
      " 13  riding_days         object        \n",
      " 14  riding_time         object        \n",
      "dtypes: datetime64[ns](2), float64(4), object(9)\n",
      "memory usage: 587.8+ MB\n",
      "None\n"
     ]
    },
    {
     "data": {
      "text/html": [
       "<div>\n",
       "<style scoped>\n",
       "    .dataframe tbody tr th:only-of-type {\n",
       "        vertical-align: middle;\n",
       "    }\n",
       "\n",
       "    .dataframe tbody tr th {\n",
       "        vertical-align: top;\n",
       "    }\n",
       "\n",
       "    .dataframe thead th {\n",
       "        text-align: right;\n",
       "    }\n",
       "</style>\n",
       "<table border=\"1\" class=\"dataframe\">\n",
       "  <thead>\n",
       "    <tr style=\"text-align: right;\">\n",
       "      <th></th>\n",
       "      <th>ride_id</th>\n",
       "      <th>rideable_type</th>\n",
       "      <th>started_at</th>\n",
       "      <th>ended_at</th>\n",
       "      <th>start_station_name</th>\n",
       "      <th>start_station_id</th>\n",
       "      <th>end_station_name</th>\n",
       "      <th>end_station_id</th>\n",
       "      <th>start_lat</th>\n",
       "      <th>start_lng</th>\n",
       "      <th>end_lat</th>\n",
       "      <th>end_lng</th>\n",
       "      <th>member_casual</th>\n",
       "      <th>riding_days</th>\n",
       "      <th>riding_time</th>\n",
       "    </tr>\n",
       "  </thead>\n",
       "  <tbody>\n",
       "    <tr>\n",
       "      <th>0</th>\n",
       "      <td>ACB6B40CF5B9044C</td>\n",
       "      <td>electric_bike</td>\n",
       "      <td>2020-10-31 19:39:43</td>\n",
       "      <td>2020-10-31 19:57:12</td>\n",
       "      <td>Lakeview Ave &amp; Fullerton Pkwy</td>\n",
       "      <td>313.0</td>\n",
       "      <td>Rush St &amp; Hubbard St</td>\n",
       "      <td>125.0</td>\n",
       "      <td>41.926101</td>\n",
       "      <td>-87.638977</td>\n",
       "      <td>41.890345</td>\n",
       "      <td>-87.626068</td>\n",
       "      <td>casual</td>\n",
       "      <td>0</td>\n",
       "      <td>00:17:29</td>\n",
       "    </tr>\n",
       "    <tr>\n",
       "      <th>1</th>\n",
       "      <td>DF450C72FD109C01</td>\n",
       "      <td>electric_bike</td>\n",
       "      <td>2020-10-31 23:50:08</td>\n",
       "      <td>2020-11-01 00:04:16</td>\n",
       "      <td>Southport Ave &amp; Waveland Ave</td>\n",
       "      <td>227.0</td>\n",
       "      <td>Kedzie Ave &amp; Milwaukee Ave</td>\n",
       "      <td>260.0</td>\n",
       "      <td>41.948172</td>\n",
       "      <td>-87.663911</td>\n",
       "      <td>41.929528</td>\n",
       "      <td>-87.707818</td>\n",
       "      <td>casual</td>\n",
       "      <td>0</td>\n",
       "      <td>00:14:08</td>\n",
       "    </tr>\n",
       "    <tr>\n",
       "      <th>2</th>\n",
       "      <td>B6396B54A15AC0DF</td>\n",
       "      <td>electric_bike</td>\n",
       "      <td>2020-10-31 23:00:01</td>\n",
       "      <td>2020-10-31 23:08:22</td>\n",
       "      <td>Stony Island Ave &amp; 67th St</td>\n",
       "      <td>102.0</td>\n",
       "      <td>University Ave &amp; 57th St</td>\n",
       "      <td>423.0</td>\n",
       "      <td>41.773462</td>\n",
       "      <td>-87.585372</td>\n",
       "      <td>41.791455</td>\n",
       "      <td>-87.600050</td>\n",
       "      <td>casual</td>\n",
       "      <td>0</td>\n",
       "      <td>00:08:21</td>\n",
       "    </tr>\n",
       "    <tr>\n",
       "      <th>3</th>\n",
       "      <td>44A4AEE261B9E854</td>\n",
       "      <td>electric_bike</td>\n",
       "      <td>2020-10-31 22:16:43</td>\n",
       "      <td>2020-10-31 22:19:35</td>\n",
       "      <td>Clark St &amp; Grace St</td>\n",
       "      <td>165.0</td>\n",
       "      <td>Broadway &amp; Sheridan Rd</td>\n",
       "      <td>256.0</td>\n",
       "      <td>41.950855</td>\n",
       "      <td>-87.659244</td>\n",
       "      <td>41.952809</td>\n",
       "      <td>-87.650103</td>\n",
       "      <td>casual</td>\n",
       "      <td>0</td>\n",
       "      <td>00:02:52</td>\n",
       "    </tr>\n",
       "    <tr>\n",
       "      <th>4</th>\n",
       "      <td>10B7DD76A6A2EB95</td>\n",
       "      <td>electric_bike</td>\n",
       "      <td>2020-10-31 19:38:19</td>\n",
       "      <td>2020-10-31 19:54:32</td>\n",
       "      <td>Southport Ave &amp; Wrightwood Ave</td>\n",
       "      <td>190.0</td>\n",
       "      <td>Stave St &amp; Armitage Ave</td>\n",
       "      <td>185.0</td>\n",
       "      <td>41.928857</td>\n",
       "      <td>-87.663962</td>\n",
       "      <td>41.917777</td>\n",
       "      <td>-87.691434</td>\n",
       "      <td>casual</td>\n",
       "      <td>0</td>\n",
       "      <td>00:16:13</td>\n",
       "    </tr>\n",
       "  </tbody>\n",
       "</table>\n",
       "</div>"
      ],
      "text/plain": [
       "            ride_id  rideable_type          started_at            ended_at  \\\n",
       "0  ACB6B40CF5B9044C  electric_bike 2020-10-31 19:39:43 2020-10-31 19:57:12   \n",
       "1  DF450C72FD109C01  electric_bike 2020-10-31 23:50:08 2020-11-01 00:04:16   \n",
       "2  B6396B54A15AC0DF  electric_bike 2020-10-31 23:00:01 2020-10-31 23:08:22   \n",
       "3  44A4AEE261B9E854  electric_bike 2020-10-31 22:16:43 2020-10-31 22:19:35   \n",
       "4  10B7DD76A6A2EB95  electric_bike 2020-10-31 19:38:19 2020-10-31 19:54:32   \n",
       "\n",
       "               start_station_name start_station_id  \\\n",
       "0   Lakeview Ave & Fullerton Pkwy            313.0   \n",
       "1    Southport Ave & Waveland Ave            227.0   \n",
       "2      Stony Island Ave & 67th St            102.0   \n",
       "3             Clark St & Grace St            165.0   \n",
       "4  Southport Ave & Wrightwood Ave            190.0   \n",
       "\n",
       "             end_station_name end_station_id  start_lat  start_lng    end_lat  \\\n",
       "0        Rush St & Hubbard St          125.0  41.926101 -87.638977  41.890345   \n",
       "1  Kedzie Ave & Milwaukee Ave          260.0  41.948172 -87.663911  41.929528   \n",
       "2    University Ave & 57th St          423.0  41.773462 -87.585372  41.791455   \n",
       "3      Broadway & Sheridan Rd          256.0  41.950855 -87.659244  41.952809   \n",
       "4     Stave St & Armitage Ave          185.0  41.928857 -87.663962  41.917777   \n",
       "\n",
       "     end_lng member_casual riding_days riding_time  \n",
       "0 -87.626068        casual           0    00:17:29  \n",
       "1 -87.707818        casual           0    00:14:08  \n",
       "2 -87.600050        casual           0    00:08:21  \n",
       "3 -87.650103        casual           0    00:02:52  \n",
       "4 -87.691434        casual           0    00:16:13  "
      ]
     },
     "execution_count": 14,
     "metadata": {},
     "output_type": "execute_result"
    }
   ],
   "source": [
    "df['riding_days'] = (df['ended_at'] - df['started_at']).astype(str).str.split(expand = True)[0]\n",
    "df['riding_time'] = (df['ended_at'] - df['started_at']).astype(str).str.split(expand = True)[2]\n",
    "print(df.info())\n",
    "df.head()"
   ]
  },
  {
   "cell_type": "markdown",
   "id": "15a03242",
   "metadata": {},
   "source": [
    "Both rd and rt have the same number of rows, but I want to make sure if they have the same data by checking if they have the same ride_id. "
   ]
  },
  {
   "cell_type": "code",
   "execution_count": 77,
   "id": "99c76cd0",
   "metadata": {},
   "outputs": [],
   "source": [
    "# df[df.riding_days.str[0] == '-' & df.riding_time.str[0] == '+']  # Boolean only?\n",
    "# Find the day with -\n",
    "rd = df[df.riding_days.str[0] == '-'] # 3304 rows\n",
    "# Find the time with + \n",
    "rt = df[df.riding_time.str[0] == '+'] # 3304 rows"
   ]
  },
  {
   "cell_type": "code",
   "execution_count": 63,
   "id": "66cedc8d",
   "metadata": {},
   "outputs": [],
   "source": [
    "# Check both columns have the same ride_id\n",
    "for i in range(len(rd.ride_id.values)):\n",
    "    if rd.ride_id.values[i] not in rt.ride_id.values:\n",
    "        print(rd.ride_id.values[i])\n",
    "    \n",
    "    if rt.ride_id.values[i] not in rd.ride_id.values:\n",
    "        print(rt.ride_id.values[i])"
   ]
  },
  {
   "cell_type": "markdown",
   "id": "a2bae211",
   "metadata": {},
   "source": [
    "Let's see why they contain - and +\n",
    "\n",
    "It seems like some customers were confused their start time (started_at) and end time (ended_at). They put start time in ended_at and end time in started_at.  \n",
    "\n",
    "Swap started_at to ended_ate and ended_at to started_at, then caculate riding_days and riding_time again. "
   ]
  },
  {
   "cell_type": "code",
   "execution_count": 75,
   "id": "48153fff",
   "metadata": {},
   "outputs": [
    {
     "data": {
      "text/html": [
       "<div>\n",
       "<style scoped>\n",
       "    .dataframe tbody tr th:only-of-type {\n",
       "        vertical-align: middle;\n",
       "    }\n",
       "\n",
       "    .dataframe tbody tr th {\n",
       "        vertical-align: top;\n",
       "    }\n",
       "\n",
       "    .dataframe thead th {\n",
       "        text-align: right;\n",
       "    }\n",
       "</style>\n",
       "<table border=\"1\" class=\"dataframe\">\n",
       "  <thead>\n",
       "    <tr style=\"text-align: right;\">\n",
       "      <th></th>\n",
       "      <th>ride_id</th>\n",
       "      <th>rideable_type</th>\n",
       "      <th>started_at</th>\n",
       "      <th>ended_at</th>\n",
       "      <th>start_station_name</th>\n",
       "      <th>start_station_id</th>\n",
       "      <th>end_station_name</th>\n",
       "      <th>end_station_id</th>\n",
       "      <th>start_lat</th>\n",
       "      <th>start_lng</th>\n",
       "      <th>end_lat</th>\n",
       "      <th>end_lng</th>\n",
       "      <th>member_casual</th>\n",
       "      <th>riding_days</th>\n",
       "      <th>riding_time</th>\n",
       "    </tr>\n",
       "  </thead>\n",
       "  <tbody>\n",
       "    <tr>\n",
       "      <th>32780</th>\n",
       "      <td>FFF850D8D4C3EFC9</td>\n",
       "      <td>electric_bike</td>\n",
       "      <td>2020-10-16 16:45:00</td>\n",
       "      <td>2020-10-16 15:58:41</td>\n",
       "      <td>Clifton Ave &amp; Armitage Ave</td>\n",
       "      <td>223.0</td>\n",
       "      <td>Larrabee St &amp; Webster Ave</td>\n",
       "      <td>144.0</td>\n",
       "      <td>41.918163</td>\n",
       "      <td>-87.657064</td>\n",
       "      <td>41.921848</td>\n",
       "      <td>-87.644057</td>\n",
       "      <td>casual</td>\n",
       "      <td>-1</td>\n",
       "      <td>+23:13:41</td>\n",
       "    </tr>\n",
       "    <tr>\n",
       "      <th>46480</th>\n",
       "      <td>75874A668F5D45FC</td>\n",
       "      <td>electric_bike</td>\n",
       "      <td>2020-10-16 16:44:52</td>\n",
       "      <td>2020-10-16 15:09:51</td>\n",
       "      <td>Western Ave &amp; Lunt Ave</td>\n",
       "      <td>467.0</td>\n",
       "      <td>Washtenaw Ave &amp; Lawrence Ave</td>\n",
       "      <td>475.0</td>\n",
       "      <td>42.008629</td>\n",
       "      <td>-87.690423</td>\n",
       "      <td>41.968806</td>\n",
       "      <td>-87.696170</td>\n",
       "      <td>casual</td>\n",
       "      <td>-1</td>\n",
       "      <td>+22:24:59</td>\n",
       "    </tr>\n",
       "    <tr>\n",
       "      <th>57014</th>\n",
       "      <td>ADA7858EFEF88FE5</td>\n",
       "      <td>docked_bike</td>\n",
       "      <td>2020-10-24 13:10:09</td>\n",
       "      <td>2020-10-24 13:09:40</td>\n",
       "      <td>St. Clair St &amp; Erie St</td>\n",
       "      <td>211.0</td>\n",
       "      <td>Clark St &amp; Lincoln Ave</td>\n",
       "      <td>141.0</td>\n",
       "      <td>41.894448</td>\n",
       "      <td>-87.622663</td>\n",
       "      <td>41.915689</td>\n",
       "      <td>-87.634600</td>\n",
       "      <td>member</td>\n",
       "      <td>-1</td>\n",
       "      <td>+23:59:31</td>\n",
       "    </tr>\n",
       "    <tr>\n",
       "      <th>58361</th>\n",
       "      <td>283B66C6E06858FE</td>\n",
       "      <td>docked_bike</td>\n",
       "      <td>2020-10-09 17:50:12</td>\n",
       "      <td>2020-10-09 17:47:03</td>\n",
       "      <td>Clark St &amp; Wellington Ave</td>\n",
       "      <td>156.0</td>\n",
       "      <td>NaN</td>\n",
       "      <td>NaN</td>\n",
       "      <td>41.936496</td>\n",
       "      <td>-87.647538</td>\n",
       "      <td>NaN</td>\n",
       "      <td>NaN</td>\n",
       "      <td>member</td>\n",
       "      <td>-1</td>\n",
       "      <td>+23:56:51</td>\n",
       "    </tr>\n",
       "    <tr>\n",
       "      <th>58369</th>\n",
       "      <td>A435A15ADC61422C</td>\n",
       "      <td>docked_bike</td>\n",
       "      <td>2020-10-07 17:53:38</td>\n",
       "      <td>2020-10-07 17:53:24</td>\n",
       "      <td>Theater on the Lake</td>\n",
       "      <td>177.0</td>\n",
       "      <td>Michigan Ave &amp; Oak St</td>\n",
       "      <td>85.0</td>\n",
       "      <td>41.926277</td>\n",
       "      <td>-87.630834</td>\n",
       "      <td>41.900960</td>\n",
       "      <td>-87.623777</td>\n",
       "      <td>member</td>\n",
       "      <td>-1</td>\n",
       "      <td>+23:59:46</td>\n",
       "    </tr>\n",
       "  </tbody>\n",
       "</table>\n",
       "</div>"
      ],
      "text/plain": [
       "                ride_id  rideable_type          started_at  \\\n",
       "32780  FFF850D8D4C3EFC9  electric_bike 2020-10-16 16:45:00   \n",
       "46480  75874A668F5D45FC  electric_bike 2020-10-16 16:44:52   \n",
       "57014  ADA7858EFEF88FE5    docked_bike 2020-10-24 13:10:09   \n",
       "58361  283B66C6E06858FE    docked_bike 2020-10-09 17:50:12   \n",
       "58369  A435A15ADC61422C    docked_bike 2020-10-07 17:53:38   \n",
       "\n",
       "                 ended_at          start_station_name start_station_id  \\\n",
       "32780 2020-10-16 15:58:41  Clifton Ave & Armitage Ave            223.0   \n",
       "46480 2020-10-16 15:09:51      Western Ave & Lunt Ave            467.0   \n",
       "57014 2020-10-24 13:09:40      St. Clair St & Erie St            211.0   \n",
       "58361 2020-10-09 17:47:03   Clark St & Wellington Ave            156.0   \n",
       "58369 2020-10-07 17:53:24         Theater on the Lake            177.0   \n",
       "\n",
       "                   end_station_name end_station_id  start_lat  start_lng  \\\n",
       "32780     Larrabee St & Webster Ave          144.0  41.918163 -87.657064   \n",
       "46480  Washtenaw Ave & Lawrence Ave          475.0  42.008629 -87.690423   \n",
       "57014        Clark St & Lincoln Ave          141.0  41.894448 -87.622663   \n",
       "58361                           NaN            NaN  41.936496 -87.647538   \n",
       "58369         Michigan Ave & Oak St           85.0  41.926277 -87.630834   \n",
       "\n",
       "         end_lat    end_lng member_casual riding_days riding_time  \n",
       "32780  41.921848 -87.644057        casual          -1   +23:13:41  \n",
       "46480  41.968806 -87.696170        casual          -1   +22:24:59  \n",
       "57014  41.915689 -87.634600        member          -1   +23:59:31  \n",
       "58361        NaN        NaN        member          -1   +23:56:51  \n",
       "58369  41.900960 -87.623777        member          -1   +23:59:46  "
      ]
     },
     "execution_count": 75,
     "metadata": {},
     "output_type": "execute_result"
    }
   ],
   "source": [
    "rt.head()"
   ]
  },
  {
   "cell_type": "code",
   "execution_count": 104,
   "id": "cb84ef79",
   "metadata": {},
   "outputs": [
    {
     "name": "stderr",
     "output_type": "stream",
     "text": [
      "D:\\Anaconda3\\lib\\site-packages\\pandas\\core\\frame.py:3641: SettingWithCopyWarning: \n",
      "A value is trying to be set on a copy of a slice from a DataFrame.\n",
      "Try using .loc[row_indexer,col_indexer] = value instead\n",
      "\n",
      "See the caveats in the documentation: https://pandas.pydata.org/pandas-docs/stable/user_guide/indexing.html#returning-a-view-versus-a-copy\n",
      "  self[k1] = value[k2]\n"
     ]
    },
    {
     "data": {
      "text/html": [
       "<div>\n",
       "<style scoped>\n",
       "    .dataframe tbody tr th:only-of-type {\n",
       "        vertical-align: middle;\n",
       "    }\n",
       "\n",
       "    .dataframe tbody tr th {\n",
       "        vertical-align: top;\n",
       "    }\n",
       "\n",
       "    .dataframe thead th {\n",
       "        text-align: right;\n",
       "    }\n",
       "</style>\n",
       "<table border=\"1\" class=\"dataframe\">\n",
       "  <thead>\n",
       "    <tr style=\"text-align: right;\">\n",
       "      <th></th>\n",
       "      <th>ride_id</th>\n",
       "      <th>rideable_type</th>\n",
       "      <th>started_at</th>\n",
       "      <th>ended_at</th>\n",
       "      <th>start_station_name</th>\n",
       "      <th>start_station_id</th>\n",
       "      <th>end_station_name</th>\n",
       "      <th>end_station_id</th>\n",
       "      <th>start_lat</th>\n",
       "      <th>start_lng</th>\n",
       "      <th>end_lat</th>\n",
       "      <th>end_lng</th>\n",
       "      <th>member_casual</th>\n",
       "      <th>riding_days</th>\n",
       "      <th>riding_time</th>\n",
       "    </tr>\n",
       "  </thead>\n",
       "  <tbody>\n",
       "    <tr>\n",
       "      <th>32780</th>\n",
       "      <td>FFF850D8D4C3EFC9</td>\n",
       "      <td>electric_bike</td>\n",
       "      <td>2020-10-16 15:58:41</td>\n",
       "      <td>2020-10-16 16:45:00</td>\n",
       "      <td>Clifton Ave &amp; Armitage Ave</td>\n",
       "      <td>223.0</td>\n",
       "      <td>Larrabee St &amp; Webster Ave</td>\n",
       "      <td>144.0</td>\n",
       "      <td>41.918163</td>\n",
       "      <td>-87.657064</td>\n",
       "      <td>41.921848</td>\n",
       "      <td>-87.644057</td>\n",
       "      <td>casual</td>\n",
       "      <td>0</td>\n",
       "      <td>00:46:19</td>\n",
       "    </tr>\n",
       "    <tr>\n",
       "      <th>46480</th>\n",
       "      <td>75874A668F5D45FC</td>\n",
       "      <td>electric_bike</td>\n",
       "      <td>2020-10-16 15:09:51</td>\n",
       "      <td>2020-10-16 16:44:52</td>\n",
       "      <td>Western Ave &amp; Lunt Ave</td>\n",
       "      <td>467.0</td>\n",
       "      <td>Washtenaw Ave &amp; Lawrence Ave</td>\n",
       "      <td>475.0</td>\n",
       "      <td>42.008629</td>\n",
       "      <td>-87.690423</td>\n",
       "      <td>41.968806</td>\n",
       "      <td>-87.696170</td>\n",
       "      <td>casual</td>\n",
       "      <td>0</td>\n",
       "      <td>01:35:01</td>\n",
       "    </tr>\n",
       "    <tr>\n",
       "      <th>57014</th>\n",
       "      <td>ADA7858EFEF88FE5</td>\n",
       "      <td>docked_bike</td>\n",
       "      <td>2020-10-24 13:09:40</td>\n",
       "      <td>2020-10-24 13:10:09</td>\n",
       "      <td>St. Clair St &amp; Erie St</td>\n",
       "      <td>211.0</td>\n",
       "      <td>Clark St &amp; Lincoln Ave</td>\n",
       "      <td>141.0</td>\n",
       "      <td>41.894448</td>\n",
       "      <td>-87.622663</td>\n",
       "      <td>41.915689</td>\n",
       "      <td>-87.634600</td>\n",
       "      <td>member</td>\n",
       "      <td>0</td>\n",
       "      <td>00:00:29</td>\n",
       "    </tr>\n",
       "    <tr>\n",
       "      <th>58361</th>\n",
       "      <td>283B66C6E06858FE</td>\n",
       "      <td>docked_bike</td>\n",
       "      <td>2020-10-09 17:47:03</td>\n",
       "      <td>2020-10-09 17:50:12</td>\n",
       "      <td>Clark St &amp; Wellington Ave</td>\n",
       "      <td>156.0</td>\n",
       "      <td>NaN</td>\n",
       "      <td>NaN</td>\n",
       "      <td>41.936496</td>\n",
       "      <td>-87.647538</td>\n",
       "      <td>NaN</td>\n",
       "      <td>NaN</td>\n",
       "      <td>member</td>\n",
       "      <td>0</td>\n",
       "      <td>00:03:09</td>\n",
       "    </tr>\n",
       "    <tr>\n",
       "      <th>58369</th>\n",
       "      <td>A435A15ADC61422C</td>\n",
       "      <td>docked_bike</td>\n",
       "      <td>2020-10-07 17:53:24</td>\n",
       "      <td>2020-10-07 17:53:38</td>\n",
       "      <td>Theater on the Lake</td>\n",
       "      <td>177.0</td>\n",
       "      <td>Michigan Ave &amp; Oak St</td>\n",
       "      <td>85.0</td>\n",
       "      <td>41.926277</td>\n",
       "      <td>-87.630834</td>\n",
       "      <td>41.900960</td>\n",
       "      <td>-87.623777</td>\n",
       "      <td>member</td>\n",
       "      <td>0</td>\n",
       "      <td>00:00:14</td>\n",
       "    </tr>\n",
       "  </tbody>\n",
       "</table>\n",
       "</div>"
      ],
      "text/plain": [
       "                ride_id  rideable_type          started_at  \\\n",
       "32780  FFF850D8D4C3EFC9  electric_bike 2020-10-16 15:58:41   \n",
       "46480  75874A668F5D45FC  electric_bike 2020-10-16 15:09:51   \n",
       "57014  ADA7858EFEF88FE5    docked_bike 2020-10-24 13:09:40   \n",
       "58361  283B66C6E06858FE    docked_bike 2020-10-09 17:47:03   \n",
       "58369  A435A15ADC61422C    docked_bike 2020-10-07 17:53:24   \n",
       "\n",
       "                 ended_at          start_station_name start_station_id  \\\n",
       "32780 2020-10-16 16:45:00  Clifton Ave & Armitage Ave            223.0   \n",
       "46480 2020-10-16 16:44:52      Western Ave & Lunt Ave            467.0   \n",
       "57014 2020-10-24 13:10:09      St. Clair St & Erie St            211.0   \n",
       "58361 2020-10-09 17:50:12   Clark St & Wellington Ave            156.0   \n",
       "58369 2020-10-07 17:53:38         Theater on the Lake            177.0   \n",
       "\n",
       "                   end_station_name end_station_id  start_lat  start_lng  \\\n",
       "32780     Larrabee St & Webster Ave          144.0  41.918163 -87.657064   \n",
       "46480  Washtenaw Ave & Lawrence Ave          475.0  42.008629 -87.690423   \n",
       "57014        Clark St & Lincoln Ave          141.0  41.894448 -87.622663   \n",
       "58361                           NaN            NaN  41.936496 -87.647538   \n",
       "58369         Michigan Ave & Oak St           85.0  41.926277 -87.630834   \n",
       "\n",
       "         end_lat    end_lng member_casual riding_days riding_time  \n",
       "32780  41.921848 -87.644057        casual           0    00:46:19  \n",
       "46480  41.968806 -87.696170        casual           0    01:35:01  \n",
       "57014  41.915689 -87.634600        member           0    00:00:29  \n",
       "58361        NaN        NaN        member           0    00:03:09  \n",
       "58369  41.900960 -87.623777        member           0    00:00:14  "
      ]
     },
     "execution_count": 104,
     "metadata": {},
     "output_type": "execute_result"
    }
   ],
   "source": [
    "# rt.loc[:, ['started_at','ended_at']] same as rt.loc[:, ('started_at','ended_at')]\n",
    "# rt.loc[:, ('started_at','ended_at')] = rt.loc[:, ('ended_at', 'started_at')]\n",
    "\n",
    "# As rt and rd have the same data, I think I can do it in this way too\n",
    "# rt[['started_at', 'ended_at']] = rd[['ended_at', 'started_at']]\n",
    "\n",
    "rt[['started_at', 'ended_at']] = rt[['ended_at', 'started_at']]\n",
    "rt.head()"
   ]
  },
  {
   "cell_type": "code",
   "execution_count": 102,
   "id": "44ab818b",
   "metadata": {},
   "outputs": [
    {
     "data": {
      "text/html": [
       "<div>\n",
       "<style scoped>\n",
       "    .dataframe tbody tr th:only-of-type {\n",
       "        vertical-align: middle;\n",
       "    }\n",
       "\n",
       "    .dataframe tbody tr th {\n",
       "        vertical-align: top;\n",
       "    }\n",
       "\n",
       "    .dataframe thead th {\n",
       "        text-align: right;\n",
       "    }\n",
       "</style>\n",
       "<table border=\"1\" class=\"dataframe\">\n",
       "  <thead>\n",
       "    <tr style=\"text-align: right;\">\n",
       "      <th></th>\n",
       "      <th>ride_id</th>\n",
       "      <th>rideable_type</th>\n",
       "      <th>started_at</th>\n",
       "      <th>ended_at</th>\n",
       "      <th>start_station_name</th>\n",
       "      <th>start_station_id</th>\n",
       "      <th>end_station_name</th>\n",
       "      <th>end_station_id</th>\n",
       "      <th>start_lat</th>\n",
       "      <th>start_lng</th>\n",
       "      <th>end_lat</th>\n",
       "      <th>end_lng</th>\n",
       "      <th>member_casual</th>\n",
       "      <th>riding_days</th>\n",
       "      <th>riding_time</th>\n",
       "    </tr>\n",
       "  </thead>\n",
       "  <tbody>\n",
       "    <tr>\n",
       "      <th>32780</th>\n",
       "      <td>FFF850D8D4C3EFC9</td>\n",
       "      <td>electric_bike</td>\n",
       "      <td>2020-10-16 16:45:00</td>\n",
       "      <td>2020-10-16 15:58:41</td>\n",
       "      <td>Clifton Ave &amp; Armitage Ave</td>\n",
       "      <td>223.0</td>\n",
       "      <td>Larrabee St &amp; Webster Ave</td>\n",
       "      <td>144.0</td>\n",
       "      <td>41.918163</td>\n",
       "      <td>-87.657064</td>\n",
       "      <td>41.921848</td>\n",
       "      <td>-87.644057</td>\n",
       "      <td>casual</td>\n",
       "      <td>0</td>\n",
       "      <td>00:46:19</td>\n",
       "    </tr>\n",
       "    <tr>\n",
       "      <th>46480</th>\n",
       "      <td>75874A668F5D45FC</td>\n",
       "      <td>electric_bike</td>\n",
       "      <td>2020-10-16 16:44:52</td>\n",
       "      <td>2020-10-16 15:09:51</td>\n",
       "      <td>Western Ave &amp; Lunt Ave</td>\n",
       "      <td>467.0</td>\n",
       "      <td>Washtenaw Ave &amp; Lawrence Ave</td>\n",
       "      <td>475.0</td>\n",
       "      <td>42.008629</td>\n",
       "      <td>-87.690423</td>\n",
       "      <td>41.968806</td>\n",
       "      <td>-87.696170</td>\n",
       "      <td>casual</td>\n",
       "      <td>0</td>\n",
       "      <td>01:35:01</td>\n",
       "    </tr>\n",
       "    <tr>\n",
       "      <th>57014</th>\n",
       "      <td>ADA7858EFEF88FE5</td>\n",
       "      <td>docked_bike</td>\n",
       "      <td>2020-10-24 13:10:09</td>\n",
       "      <td>2020-10-24 13:09:40</td>\n",
       "      <td>St. Clair St &amp; Erie St</td>\n",
       "      <td>211.0</td>\n",
       "      <td>Clark St &amp; Lincoln Ave</td>\n",
       "      <td>141.0</td>\n",
       "      <td>41.894448</td>\n",
       "      <td>-87.622663</td>\n",
       "      <td>41.915689</td>\n",
       "      <td>-87.634600</td>\n",
       "      <td>member</td>\n",
       "      <td>0</td>\n",
       "      <td>00:00:29</td>\n",
       "    </tr>\n",
       "    <tr>\n",
       "      <th>58361</th>\n",
       "      <td>283B66C6E06858FE</td>\n",
       "      <td>docked_bike</td>\n",
       "      <td>2020-10-09 17:50:12</td>\n",
       "      <td>2020-10-09 17:47:03</td>\n",
       "      <td>Clark St &amp; Wellington Ave</td>\n",
       "      <td>156.0</td>\n",
       "      <td>NaN</td>\n",
       "      <td>NaN</td>\n",
       "      <td>41.936496</td>\n",
       "      <td>-87.647538</td>\n",
       "      <td>NaN</td>\n",
       "      <td>NaN</td>\n",
       "      <td>member</td>\n",
       "      <td>0</td>\n",
       "      <td>00:03:09</td>\n",
       "    </tr>\n",
       "    <tr>\n",
       "      <th>58369</th>\n",
       "      <td>A435A15ADC61422C</td>\n",
       "      <td>docked_bike</td>\n",
       "      <td>2020-10-07 17:53:38</td>\n",
       "      <td>2020-10-07 17:53:24</td>\n",
       "      <td>Theater on the Lake</td>\n",
       "      <td>177.0</td>\n",
       "      <td>Michigan Ave &amp; Oak St</td>\n",
       "      <td>85.0</td>\n",
       "      <td>41.926277</td>\n",
       "      <td>-87.630834</td>\n",
       "      <td>41.900960</td>\n",
       "      <td>-87.623777</td>\n",
       "      <td>member</td>\n",
       "      <td>0</td>\n",
       "      <td>00:00:14</td>\n",
       "    </tr>\n",
       "  </tbody>\n",
       "</table>\n",
       "</div>"
      ],
      "text/plain": [
       "                ride_id  rideable_type          started_at  \\\n",
       "32780  FFF850D8D4C3EFC9  electric_bike 2020-10-16 16:45:00   \n",
       "46480  75874A668F5D45FC  electric_bike 2020-10-16 16:44:52   \n",
       "57014  ADA7858EFEF88FE5    docked_bike 2020-10-24 13:10:09   \n",
       "58361  283B66C6E06858FE    docked_bike 2020-10-09 17:50:12   \n",
       "58369  A435A15ADC61422C    docked_bike 2020-10-07 17:53:38   \n",
       "\n",
       "                 ended_at          start_station_name start_station_id  \\\n",
       "32780 2020-10-16 15:58:41  Clifton Ave & Armitage Ave            223.0   \n",
       "46480 2020-10-16 15:09:51      Western Ave & Lunt Ave            467.0   \n",
       "57014 2020-10-24 13:09:40      St. Clair St & Erie St            211.0   \n",
       "58361 2020-10-09 17:47:03   Clark St & Wellington Ave            156.0   \n",
       "58369 2020-10-07 17:53:24         Theater on the Lake            177.0   \n",
       "\n",
       "                   end_station_name end_station_id  start_lat  start_lng  \\\n",
       "32780     Larrabee St & Webster Ave          144.0  41.918163 -87.657064   \n",
       "46480  Washtenaw Ave & Lawrence Ave          475.0  42.008629 -87.690423   \n",
       "57014        Clark St & Lincoln Ave          141.0  41.894448 -87.622663   \n",
       "58361                           NaN            NaN  41.936496 -87.647538   \n",
       "58369         Michigan Ave & Oak St           85.0  41.926277 -87.630834   \n",
       "\n",
       "         end_lat    end_lng member_casual riding_days riding_time  \n",
       "32780  41.921848 -87.644057        casual           0    00:46:19  \n",
       "46480  41.968806 -87.696170        casual           0    01:35:01  \n",
       "57014  41.915689 -87.634600        member           0    00:00:29  \n",
       "58361        NaN        NaN        member           0    00:03:09  \n",
       "58369  41.900960 -87.623777        member           0    00:00:14  "
      ]
     },
     "execution_count": 102,
     "metadata": {},
     "output_type": "execute_result"
    }
   ],
   "source": [
    "# Calcuate riding_days and riding_time again\n",
    "rt.riding_days = (rt.ended_at - rt.started_at).astype(str).str.split(expand = True)[0]\n",
    "rt.riding_time = (rt.ended_at - rt.started_at).astype(str).str.split(expand = True)[2]"
   ]
  },
  {
   "cell_type": "code",
   "execution_count": 111,
   "id": "10ec31b5",
   "metadata": {},
   "outputs": [
    {
     "data": {
      "text/plain": [
       "5132957"
      ]
     },
     "execution_count": 111,
     "metadata": {},
     "output_type": "execute_result"
    }
   ],
   "source": [
    "len(df) # 5136261\n",
    "# len(df[df.riding_time.str[0] == '+']) # 3304\n",
    "5136261 - 3304 # 5132957"
   ]
  },
  {
   "cell_type": "code",
   "execution_count": 159,
   "id": "329a49f3",
   "metadata": {},
   "outputs": [],
   "source": [
    "df1 = df.copy()"
   ]
  },
  {
   "cell_type": "code",
   "execution_count": 157,
   "id": "72532ce6",
   "metadata": {
    "scrolled": false
   },
   "outputs": [
    {
     "data": {
      "text/plain": [
       "2020-10    1911\n",
       "2020-11    1243\n",
       "2020-12      56\n",
       "2021-09      36\n",
       "2021-08      29\n",
       "2021-07      13\n",
       "2021-04       5\n",
       "2021-06       5\n",
       "2021-01       2\n",
       "2021-03       2\n",
       "2021-05       2\n",
       "Name: started_at, dtype: int64"
      ]
     },
     "execution_count": 157,
     "metadata": {},
     "output_type": "execute_result"
    }
   ],
   "source": [
    "# Wrong data inputs sorted by year and month \n",
    "rt.started_at.astype(str).str[:7].value_counts()"
   ]
  },
  {
   "cell_type": "code",
   "execution_count": 172,
   "id": "2db2e573",
   "metadata": {},
   "outputs": [
    {
     "data": {
      "text/plain": [
       "5132957"
      ]
     },
     "execution_count": 172,
     "metadata": {},
     "output_type": "execute_result"
    }
   ],
   "source": [
    "# *\n",
    "# * This code takes more than an hour * #\n",
    "# *\n",
    "\n",
    "# for i in range(len(rt.index)):\n",
    "#     df.drop(index = rt.index[i], inplace = True)\n",
    "# len(df)"
   ]
  },
  {
   "cell_type": "code",
   "execution_count": 179,
   "id": "74162b9a",
   "metadata": {},
   "outputs": [
    {
     "data": {
      "text/plain": [
       "0"
      ]
     },
     "execution_count": 179,
     "metadata": {},
     "output_type": "execute_result"
    }
   ],
   "source": [
    "# Combine two dataframes \n",
    "df = pd.concat([df, rt])\n",
    "# Check if the data is cleaned properly\n",
    "len(df[df['riding_time'].str[0] == '+'])"
   ]
  },
  {
   "cell_type": "code",
   "execution_count": 186,
   "id": "995c07e5",
   "metadata": {},
   "outputs": [
    {
     "data": {
      "text/html": [
       "<div>\n",
       "<style scoped>\n",
       "    .dataframe tbody tr th:only-of-type {\n",
       "        vertical-align: middle;\n",
       "    }\n",
       "\n",
       "    .dataframe tbody tr th {\n",
       "        vertical-align: top;\n",
       "    }\n",
       "\n",
       "    .dataframe thead th {\n",
       "        text-align: right;\n",
       "    }\n",
       "</style>\n",
       "<table border=\"1\" class=\"dataframe\">\n",
       "  <thead>\n",
       "    <tr style=\"text-align: right;\">\n",
       "      <th></th>\n",
       "      <th>ride_id</th>\n",
       "      <th>rideable_type</th>\n",
       "      <th>started_at</th>\n",
       "      <th>ended_at</th>\n",
       "      <th>start_station_name</th>\n",
       "      <th>start_station_id</th>\n",
       "      <th>end_station_name</th>\n",
       "      <th>end_station_id</th>\n",
       "      <th>start_lat</th>\n",
       "      <th>start_lng</th>\n",
       "      <th>end_lat</th>\n",
       "      <th>end_lng</th>\n",
       "      <th>member_casual</th>\n",
       "      <th>riding_days</th>\n",
       "      <th>riding_time</th>\n",
       "    </tr>\n",
       "  </thead>\n",
       "  <tbody>\n",
       "    <tr>\n",
       "      <th>2569233</th>\n",
       "      <td>7F0578ABF030FC83</td>\n",
       "      <td>docked_bike</td>\n",
       "      <td>2021-06-04 22:03:33</td>\n",
       "      <td>2021-07-13 14:15:14</td>\n",
       "      <td>Streeter Dr &amp; Grand Ave</td>\n",
       "      <td>13022</td>\n",
       "      <td>Base - 2132 W Hubbard Warehouse</td>\n",
       "      <td>Hubbard Bike-checking (LBS-WH-TEST)</td>\n",
       "      <td>41.892278</td>\n",
       "      <td>-87.612043</td>\n",
       "      <td>41.889955</td>\n",
       "      <td>-87.680651</td>\n",
       "      <td>casual</td>\n",
       "      <td>38</td>\n",
       "      <td>16:11:41</td>\n",
       "    </tr>\n",
       "    <tr>\n",
       "      <th>2619440</th>\n",
       "      <td>F043F0F6A1AA4F85</td>\n",
       "      <td>docked_bike</td>\n",
       "      <td>2021-06-05 02:27:26</td>\n",
       "      <td>2021-07-13 22:51:35</td>\n",
       "      <td>Michigan Ave &amp; Lake St</td>\n",
       "      <td>TA1305000011</td>\n",
       "      <td>Malcolm X College Vaccination Site</td>\n",
       "      <td>631</td>\n",
       "      <td>41.886024</td>\n",
       "      <td>-87.624117</td>\n",
       "      <td>41.877618</td>\n",
       "      <td>-87.673895</td>\n",
       "      <td>casual</td>\n",
       "      <td>38</td>\n",
       "      <td>20:24:09</td>\n",
       "    </tr>\n",
       "    <tr>\n",
       "      <th>1538445</th>\n",
       "      <td>BDA1217EC8532C7B</td>\n",
       "      <td>docked_bike</td>\n",
       "      <td>2021-05-02 02:56:07</td>\n",
       "      <td>2021-06-08 13:37:43</td>\n",
       "      <td>State St &amp; Van Buren St</td>\n",
       "      <td>TA1305000035</td>\n",
       "      <td>Wells St &amp; Polk St</td>\n",
       "      <td>SL-011</td>\n",
       "      <td>41.877181</td>\n",
       "      <td>-87.627844</td>\n",
       "      <td>41.872596</td>\n",
       "      <td>-87.633502</td>\n",
       "      <td>casual</td>\n",
       "      <td>37</td>\n",
       "      <td>10:41:36</td>\n",
       "    </tr>\n",
       "    <tr>\n",
       "      <th>2105470</th>\n",
       "      <td>E6E1E5BFFD72ECEC</td>\n",
       "      <td>docked_bike</td>\n",
       "      <td>2021-06-05 23:33:51</td>\n",
       "      <td>2021-07-12 13:55:14</td>\n",
       "      <td>Clark St &amp; Lake St</td>\n",
       "      <td>KA1503000012</td>\n",
       "      <td>Base - 2132 W Hubbard Warehouse</td>\n",
       "      <td>Hubbard Bike-checking (LBS-WH-TEST)</td>\n",
       "      <td>41.886021</td>\n",
       "      <td>-87.630876</td>\n",
       "      <td>41.889955</td>\n",
       "      <td>-87.680651</td>\n",
       "      <td>casual</td>\n",
       "      <td>36</td>\n",
       "      <td>14:21:23</td>\n",
       "    </tr>\n",
       "    <tr>\n",
       "      <th>3393698</th>\n",
       "      <td>99415B003B7E7EEE</td>\n",
       "      <td>docked_bike</td>\n",
       "      <td>2021-07-08 19:29:49</td>\n",
       "      <td>2021-08-11 21:56:58</td>\n",
       "      <td>Kedzie Ave &amp; Milwaukee Ave</td>\n",
       "      <td>13085</td>\n",
       "      <td>Base - 2132 W Hubbard Warehouse</td>\n",
       "      <td>Hubbard Bike-checking (LBS-WH-TEST)</td>\n",
       "      <td>41.929567</td>\n",
       "      <td>-87.707857</td>\n",
       "      <td>41.889955</td>\n",
       "      <td>-87.680651</td>\n",
       "      <td>casual</td>\n",
       "      <td>34</td>\n",
       "      <td>02:27:09</td>\n",
       "    </tr>\n",
       "    <tr>\n",
       "      <th>...</th>\n",
       "      <td>...</td>\n",
       "      <td>...</td>\n",
       "      <td>...</td>\n",
       "      <td>...</td>\n",
       "      <td>...</td>\n",
       "      <td>...</td>\n",
       "      <td>...</td>\n",
       "      <td>...</td>\n",
       "      <td>...</td>\n",
       "      <td>...</td>\n",
       "      <td>...</td>\n",
       "      <td>...</td>\n",
       "      <td>...</td>\n",
       "      <td>...</td>\n",
       "      <td>...</td>\n",
       "    </tr>\n",
       "    <tr>\n",
       "      <th>1715750</th>\n",
       "      <td>74B7BE01BB3A595C</td>\n",
       "      <td>docked_bike</td>\n",
       "      <td>2021-05-24 19:14:54</td>\n",
       "      <td>2021-05-24 19:45:25</td>\n",
       "      <td>Adler Planetarium</td>\n",
       "      <td>13431</td>\n",
       "      <td>Buckingham Fountain</td>\n",
       "      <td>15541</td>\n",
       "      <td>41.866095</td>\n",
       "      <td>-87.607267</td>\n",
       "      <td>41.876511</td>\n",
       "      <td>-87.620548</td>\n",
       "      <td>casual</td>\n",
       "      <td>0</td>\n",
       "      <td>00:30:31</td>\n",
       "    </tr>\n",
       "    <tr>\n",
       "      <th>1715749</th>\n",
       "      <td>FFA258E6522F9FEF</td>\n",
       "      <td>docked_bike</td>\n",
       "      <td>2021-05-30 17:14:05</td>\n",
       "      <td>2021-05-30 17:45:20</td>\n",
       "      <td>Adler Planetarium</td>\n",
       "      <td>13431</td>\n",
       "      <td>Wabash Ave &amp; Grand Ave</td>\n",
       "      <td>TA1307000117</td>\n",
       "      <td>41.866095</td>\n",
       "      <td>-87.607267</td>\n",
       "      <td>41.891466</td>\n",
       "      <td>-87.626761</td>\n",
       "      <td>casual</td>\n",
       "      <td>0</td>\n",
       "      <td>00:31:15</td>\n",
       "    </tr>\n",
       "    <tr>\n",
       "      <th>1715748</th>\n",
       "      <td>A92DBED8CFDBB195</td>\n",
       "      <td>electric_bike</td>\n",
       "      <td>2021-05-08 20:05:42</td>\n",
       "      <td>2021-05-08 21:08:41</td>\n",
       "      <td>Wells St &amp; Hubbard St</td>\n",
       "      <td>TA1307000151</td>\n",
       "      <td>Wabash Ave &amp; Grand Ave</td>\n",
       "      <td>TA1307000117</td>\n",
       "      <td>41.889986</td>\n",
       "      <td>-87.634400</td>\n",
       "      <td>41.891755</td>\n",
       "      <td>-87.625383</td>\n",
       "      <td>member</td>\n",
       "      <td>0</td>\n",
       "      <td>01:02:59</td>\n",
       "    </tr>\n",
       "    <tr>\n",
       "      <th>1715747</th>\n",
       "      <td>40CB16BBC11686A5</td>\n",
       "      <td>classic_bike</td>\n",
       "      <td>2021-05-01 22:55:23</td>\n",
       "      <td>2021-05-01 23:09:07</td>\n",
       "      <td>Clark St &amp; Schiller St</td>\n",
       "      <td>TA1309000024</td>\n",
       "      <td>Wabash Ave &amp; Grand Ave</td>\n",
       "      <td>TA1307000117</td>\n",
       "      <td>41.907993</td>\n",
       "      <td>-87.631501</td>\n",
       "      <td>41.891466</td>\n",
       "      <td>-87.626761</td>\n",
       "      <td>member</td>\n",
       "      <td>0</td>\n",
       "      <td>00:13:44</td>\n",
       "    </tr>\n",
       "    <tr>\n",
       "      <th>5089749</th>\n",
       "      <td>CA0E5960C9FC5B28</td>\n",
       "      <td>classic_bike</td>\n",
       "      <td>2021-09-29 17:00:12</td>\n",
       "      <td>2021-09-29 17:04:41</td>\n",
       "      <td>Dearborn St &amp; Monroe St</td>\n",
       "      <td>TA1305000006</td>\n",
       "      <td>Dearborn St &amp; Monroe St</td>\n",
       "      <td>TA1305000006</td>\n",
       "      <td>41.881320</td>\n",
       "      <td>-87.629521</td>\n",
       "      <td>41.881320</td>\n",
       "      <td>-87.629521</td>\n",
       "      <td>member</td>\n",
       "      <td>0</td>\n",
       "      <td>00:04:29</td>\n",
       "    </tr>\n",
       "  </tbody>\n",
       "</table>\n",
       "<p>5136261 rows × 15 columns</p>\n",
       "</div>"
      ],
      "text/plain": [
       "                  ride_id  rideable_type          started_at  \\\n",
       "2569233  7F0578ABF030FC83    docked_bike 2021-06-04 22:03:33   \n",
       "2619440  F043F0F6A1AA4F85    docked_bike 2021-06-05 02:27:26   \n",
       "1538445  BDA1217EC8532C7B    docked_bike 2021-05-02 02:56:07   \n",
       "2105470  E6E1E5BFFD72ECEC    docked_bike 2021-06-05 23:33:51   \n",
       "3393698  99415B003B7E7EEE    docked_bike 2021-07-08 19:29:49   \n",
       "...                   ...            ...                 ...   \n",
       "1715750  74B7BE01BB3A595C    docked_bike 2021-05-24 19:14:54   \n",
       "1715749  FFA258E6522F9FEF    docked_bike 2021-05-30 17:14:05   \n",
       "1715748  A92DBED8CFDBB195  electric_bike 2021-05-08 20:05:42   \n",
       "1715747  40CB16BBC11686A5   classic_bike 2021-05-01 22:55:23   \n",
       "5089749  CA0E5960C9FC5B28   classic_bike 2021-09-29 17:00:12   \n",
       "\n",
       "                   ended_at          start_station_name start_station_id  \\\n",
       "2569233 2021-07-13 14:15:14     Streeter Dr & Grand Ave            13022   \n",
       "2619440 2021-07-13 22:51:35      Michigan Ave & Lake St     TA1305000011   \n",
       "1538445 2021-06-08 13:37:43     State St & Van Buren St     TA1305000035   \n",
       "2105470 2021-07-12 13:55:14          Clark St & Lake St     KA1503000012   \n",
       "3393698 2021-08-11 21:56:58  Kedzie Ave & Milwaukee Ave            13085   \n",
       "...                     ...                         ...              ...   \n",
       "1715750 2021-05-24 19:45:25           Adler Planetarium            13431   \n",
       "1715749 2021-05-30 17:45:20           Adler Planetarium            13431   \n",
       "1715748 2021-05-08 21:08:41       Wells St & Hubbard St     TA1307000151   \n",
       "1715747 2021-05-01 23:09:07      Clark St & Schiller St     TA1309000024   \n",
       "5089749 2021-09-29 17:04:41     Dearborn St & Monroe St     TA1305000006   \n",
       "\n",
       "                           end_station_name  \\\n",
       "2569233     Base - 2132 W Hubbard Warehouse   \n",
       "2619440  Malcolm X College Vaccination Site   \n",
       "1538445                  Wells St & Polk St   \n",
       "2105470     Base - 2132 W Hubbard Warehouse   \n",
       "3393698     Base - 2132 W Hubbard Warehouse   \n",
       "...                                     ...   \n",
       "1715750                 Buckingham Fountain   \n",
       "1715749              Wabash Ave & Grand Ave   \n",
       "1715748              Wabash Ave & Grand Ave   \n",
       "1715747              Wabash Ave & Grand Ave   \n",
       "5089749             Dearborn St & Monroe St   \n",
       "\n",
       "                              end_station_id  start_lat  start_lng    end_lat  \\\n",
       "2569233  Hubbard Bike-checking (LBS-WH-TEST)  41.892278 -87.612043  41.889955   \n",
       "2619440                                  631  41.886024 -87.624117  41.877618   \n",
       "1538445                               SL-011  41.877181 -87.627844  41.872596   \n",
       "2105470  Hubbard Bike-checking (LBS-WH-TEST)  41.886021 -87.630876  41.889955   \n",
       "3393698  Hubbard Bike-checking (LBS-WH-TEST)  41.929567 -87.707857  41.889955   \n",
       "...                                      ...        ...        ...        ...   \n",
       "1715750                                15541  41.866095 -87.607267  41.876511   \n",
       "1715749                         TA1307000117  41.866095 -87.607267  41.891466   \n",
       "1715748                         TA1307000117  41.889986 -87.634400  41.891755   \n",
       "1715747                         TA1307000117  41.907993 -87.631501  41.891466   \n",
       "5089749                         TA1305000006  41.881320 -87.629521  41.881320   \n",
       "\n",
       "           end_lng member_casual  riding_days riding_time  \n",
       "2569233 -87.680651        casual           38    16:11:41  \n",
       "2619440 -87.673895        casual           38    20:24:09  \n",
       "1538445 -87.633502        casual           37    10:41:36  \n",
       "2105470 -87.680651        casual           36    14:21:23  \n",
       "3393698 -87.680651        casual           34    02:27:09  \n",
       "...            ...           ...          ...         ...  \n",
       "1715750 -87.620548        casual            0    00:30:31  \n",
       "1715749 -87.626761        casual            0    00:31:15  \n",
       "1715748 -87.625383        member            0    01:02:59  \n",
       "1715747 -87.626761        member            0    00:13:44  \n",
       "5089749 -87.629521        member            0    00:04:29  \n",
       "\n",
       "[5136261 rows x 15 columns]"
      ]
     },
     "execution_count": 186,
     "metadata": {},
     "output_type": "execute_result"
    }
   ],
   "source": [
    "df.loc[:,['riding_days']] = df.loc[:,['riding_days']].astype('int64')\n",
    "df.sort_values(by = 'riding_days', ascending = False)"
   ]
  },
  {
   "cell_type": "markdown",
   "id": "5010d842",
   "metadata": {},
   "source": [
    "### 3-2. Add day_of_week\n",
    "* day_of_week - e.g.1 = Sunday and 7 = Saturday."
   ]
  },
  {
   "cell_type": "code",
   "execution_count": 14,
   "id": "4a063975",
   "metadata": {},
   "outputs": [
    {
     "data": {
      "text/html": [
       "<div>\n",
       "<style scoped>\n",
       "    .dataframe tbody tr th:only-of-type {\n",
       "        vertical-align: middle;\n",
       "    }\n",
       "\n",
       "    .dataframe tbody tr th {\n",
       "        vertical-align: top;\n",
       "    }\n",
       "\n",
       "    .dataframe thead th {\n",
       "        text-align: right;\n",
       "    }\n",
       "</style>\n",
       "<table border=\"1\" class=\"dataframe\">\n",
       "  <thead>\n",
       "    <tr style=\"text-align: right;\">\n",
       "      <th></th>\n",
       "      <th>Unnamed: 0</th>\n",
       "      <th>ride_id</th>\n",
       "      <th>rideable_type</th>\n",
       "      <th>started_at</th>\n",
       "      <th>ended_at</th>\n",
       "      <th>start_station_name</th>\n",
       "      <th>start_station_id</th>\n",
       "      <th>end_station_name</th>\n",
       "      <th>end_station_id</th>\n",
       "      <th>start_lat</th>\n",
       "      <th>start_lng</th>\n",
       "      <th>end_lat</th>\n",
       "      <th>end_lng</th>\n",
       "      <th>member_casual</th>\n",
       "      <th>riding_days</th>\n",
       "      <th>riding_time</th>\n",
       "      <th>day_of_week</th>\n",
       "      <th>day_name</th>\n",
       "    </tr>\n",
       "  </thead>\n",
       "  <tbody>\n",
       "    <tr>\n",
       "      <th>0</th>\n",
       "      <td>0</td>\n",
       "      <td>ACB6B40CF5B9044C</td>\n",
       "      <td>electric_bike</td>\n",
       "      <td>2020-10-31 19:39:43</td>\n",
       "      <td>2020-10-31 19:57:12</td>\n",
       "      <td>Lakeview Ave &amp; Fullerton Pkwy</td>\n",
       "      <td>313.0</td>\n",
       "      <td>Rush St &amp; Hubbard St</td>\n",
       "      <td>125.0</td>\n",
       "      <td>41.926101</td>\n",
       "      <td>-87.638977</td>\n",
       "      <td>41.890345</td>\n",
       "      <td>-87.626068</td>\n",
       "      <td>casual</td>\n",
       "      <td>0</td>\n",
       "      <td>00:17:29</td>\n",
       "      <td>5</td>\n",
       "      <td>Saturday</td>\n",
       "    </tr>\n",
       "    <tr>\n",
       "      <th>1</th>\n",
       "      <td>1</td>\n",
       "      <td>DF450C72FD109C01</td>\n",
       "      <td>electric_bike</td>\n",
       "      <td>2020-10-31 23:50:08</td>\n",
       "      <td>2020-11-01 00:04:16</td>\n",
       "      <td>Southport Ave &amp; Waveland Ave</td>\n",
       "      <td>227.0</td>\n",
       "      <td>Kedzie Ave &amp; Milwaukee Ave</td>\n",
       "      <td>260.0</td>\n",
       "      <td>41.948172</td>\n",
       "      <td>-87.663911</td>\n",
       "      <td>41.929528</td>\n",
       "      <td>-87.707818</td>\n",
       "      <td>casual</td>\n",
       "      <td>0</td>\n",
       "      <td>00:14:08</td>\n",
       "      <td>5</td>\n",
       "      <td>Saturday</td>\n",
       "    </tr>\n",
       "    <tr>\n",
       "      <th>2</th>\n",
       "      <td>2</td>\n",
       "      <td>B6396B54A15AC0DF</td>\n",
       "      <td>electric_bike</td>\n",
       "      <td>2020-10-31 23:00:01</td>\n",
       "      <td>2020-10-31 23:08:22</td>\n",
       "      <td>Stony Island Ave &amp; 67th St</td>\n",
       "      <td>102.0</td>\n",
       "      <td>University Ave &amp; 57th St</td>\n",
       "      <td>423.0</td>\n",
       "      <td>41.773462</td>\n",
       "      <td>-87.585372</td>\n",
       "      <td>41.791455</td>\n",
       "      <td>-87.600050</td>\n",
       "      <td>casual</td>\n",
       "      <td>0</td>\n",
       "      <td>00:08:21</td>\n",
       "      <td>5</td>\n",
       "      <td>Saturday</td>\n",
       "    </tr>\n",
       "    <tr>\n",
       "      <th>3</th>\n",
       "      <td>3</td>\n",
       "      <td>44A4AEE261B9E854</td>\n",
       "      <td>electric_bike</td>\n",
       "      <td>2020-10-31 22:16:43</td>\n",
       "      <td>2020-10-31 22:19:35</td>\n",
       "      <td>Clark St &amp; Grace St</td>\n",
       "      <td>165.0</td>\n",
       "      <td>Broadway &amp; Sheridan Rd</td>\n",
       "      <td>256.0</td>\n",
       "      <td>41.950855</td>\n",
       "      <td>-87.659244</td>\n",
       "      <td>41.952809</td>\n",
       "      <td>-87.650103</td>\n",
       "      <td>casual</td>\n",
       "      <td>0</td>\n",
       "      <td>00:02:52</td>\n",
       "      <td>5</td>\n",
       "      <td>Saturday</td>\n",
       "    </tr>\n",
       "    <tr>\n",
       "      <th>4</th>\n",
       "      <td>4</td>\n",
       "      <td>10B7DD76A6A2EB95</td>\n",
       "      <td>electric_bike</td>\n",
       "      <td>2020-10-31 19:38:19</td>\n",
       "      <td>2020-10-31 19:54:32</td>\n",
       "      <td>Southport Ave &amp; Wrightwood Ave</td>\n",
       "      <td>190.0</td>\n",
       "      <td>Stave St &amp; Armitage Ave</td>\n",
       "      <td>185.0</td>\n",
       "      <td>41.928857</td>\n",
       "      <td>-87.663962</td>\n",
       "      <td>41.917777</td>\n",
       "      <td>-87.691434</td>\n",
       "      <td>casual</td>\n",
       "      <td>0</td>\n",
       "      <td>00:16:13</td>\n",
       "      <td>5</td>\n",
       "      <td>Saturday</td>\n",
       "    </tr>\n",
       "  </tbody>\n",
       "</table>\n",
       "</div>"
      ],
      "text/plain": [
       "   Unnamed: 0           ride_id  rideable_type          started_at  \\\n",
       "0           0  ACB6B40CF5B9044C  electric_bike 2020-10-31 19:39:43   \n",
       "1           1  DF450C72FD109C01  electric_bike 2020-10-31 23:50:08   \n",
       "2           2  B6396B54A15AC0DF  electric_bike 2020-10-31 23:00:01   \n",
       "3           3  44A4AEE261B9E854  electric_bike 2020-10-31 22:16:43   \n",
       "4           4  10B7DD76A6A2EB95  electric_bike 2020-10-31 19:38:19   \n",
       "\n",
       "             ended_at              start_station_name start_station_id  \\\n",
       "0 2020-10-31 19:57:12   Lakeview Ave & Fullerton Pkwy            313.0   \n",
       "1 2020-11-01 00:04:16    Southport Ave & Waveland Ave            227.0   \n",
       "2 2020-10-31 23:08:22      Stony Island Ave & 67th St            102.0   \n",
       "3 2020-10-31 22:19:35             Clark St & Grace St            165.0   \n",
       "4 2020-10-31 19:54:32  Southport Ave & Wrightwood Ave            190.0   \n",
       "\n",
       "             end_station_name end_station_id  start_lat  start_lng    end_lat  \\\n",
       "0        Rush St & Hubbard St          125.0  41.926101 -87.638977  41.890345   \n",
       "1  Kedzie Ave & Milwaukee Ave          260.0  41.948172 -87.663911  41.929528   \n",
       "2    University Ave & 57th St          423.0  41.773462 -87.585372  41.791455   \n",
       "3      Broadway & Sheridan Rd          256.0  41.950855 -87.659244  41.952809   \n",
       "4     Stave St & Armitage Ave          185.0  41.928857 -87.663962  41.917777   \n",
       "\n",
       "     end_lng member_casual  riding_days riding_time  day_of_week  day_name  \n",
       "0 -87.626068        casual            0    00:17:29            5  Saturday  \n",
       "1 -87.707818        casual            0    00:14:08            5  Saturday  \n",
       "2 -87.600050        casual            0    00:08:21            5  Saturday  \n",
       "3 -87.650103        casual            0    00:02:52            5  Saturday  \n",
       "4 -87.691434        casual            0    00:16:13            5  Saturday  "
      ]
     },
     "execution_count": 14,
     "metadata": {},
     "output_type": "execute_result"
    }
   ],
   "source": [
    "# dayofweek and day_of_week - 0 = Mon, ..., 6 = Sun\n",
    "# The requirement is that day_of_week needs to start from Sunday, but I still haven't found the code for it\n",
    "# I will replace the code when I find  it \n",
    "df['day_of_week'] = df['started_at'].dt.dayofweek\n",
    "df['day_name'] = df['started_at'].dt.day_name()\n",
    "df.head()"
   ]
  },
  {
   "cell_type": "code",
   "execution_count": 16,
   "id": "acf92d21",
   "metadata": {},
   "outputs": [],
   "source": [
    "df.drop(columns = 'Unnamed: 0', inplace = True)"
   ]
  },
  {
   "cell_type": "markdown",
   "id": "fa4cce1c",
   "metadata": {},
   "source": [
    "# 4. Analyse"
   ]
  },
  {
   "cell_type": "markdown",
   "id": "47c241e2",
   "metadata": {},
   "source": [
    "1. Find mean, max, and mode of ride length \n",
    "2. Calculate the average ride length for members and casual riders\n",
    "3. Calculate the average ride length for users by day of week\n",
    "4. Calculate the number of rides for users by day of week \n"
   ]
  },
  {
   "cell_type": "code",
   "execution_count": 18,
   "id": "f6023d7c",
   "metadata": {},
   "outputs": [
    {
     "name": "stdout",
     "output_type": "stream",
     "text": [
      "<class 'pandas.core.frame.DataFrame'>\n",
      "RangeIndex: 5136261 entries, 0 to 5136260\n",
      "Data columns (total 17 columns):\n",
      " #   Column              Dtype         \n",
      "---  ------              -----         \n",
      " 0   ride_id             object        \n",
      " 1   rideable_type       object        \n",
      " 2   started_at          datetime64[ns]\n",
      " 3   ended_at            datetime64[ns]\n",
      " 4   start_station_name  object        \n",
      " 5   start_station_id    object        \n",
      " 6   end_station_name    object        \n",
      " 7   end_station_id      object        \n",
      " 8   start_lat           float64       \n",
      " 9   start_lng           float64       \n",
      " 10  end_lat             float64       \n",
      " 11  end_lng             float64       \n",
      " 12  member_casual       object        \n",
      " 13  riding_days         int64         \n",
      " 14  riding_time         object        \n",
      " 15  day_of_week         int64         \n",
      " 16  day_name            object        \n",
      "dtypes: datetime64[ns](2), float64(4), int64(2), object(9)\n",
      "memory usage: 666.2+ MB\n"
     ]
    }
   ],
   "source": [
    "df.info()"
   ]
  },
  {
   "cell_type": "markdown",
   "id": "05edcd19",
   "metadata": {},
   "source": [
    "### 4-1. Find mean, max, and mode of ride length\n",
    "datetime -> astype(np.int64) -> mean() -> datetime"
   ]
  },
  {
   "cell_type": "code",
   "execution_count": 58,
   "id": "b65d34e2",
   "metadata": {},
   "outputs": [],
   "source": [
    "df['riding_time_hm_int'] = pd.to_datetime(df.riding_time.astype(str).str[:5]).values.astype(np.int64)"
   ]
  },
  {
   "cell_type": "code",
   "execution_count": 19,
   "id": "b25838ee",
   "metadata": {},
   "outputs": [],
   "source": [
    "# make a column called riding_time_int to save time and to calculate average time easily \n",
    "df['riding_time_int'] = pd.to_datetime(df['riding_time']).values.astype(np.int64)"
   ]
  },
  {
   "cell_type": "code",
   "execution_count": null,
   "id": "4d0d576e",
   "metadata": {},
   "outputs": [],
   "source": [
    "# only hours and minuts contain - 00:34, 12:33 ...\n",
    "df['riding_time_hm_int'] = pd.to_datetime(df.riding_time.astype(str).str[:5]).values.astype(np.int64)"
   ]
  },
  {
   "cell_type": "code",
   "execution_count": 21,
   "id": "c90fb31f",
   "metadata": {},
   "outputs": [
    {
     "data": {
      "text/plain": [
       "member    2777974\n",
       "casual    2358287\n",
       "Name: member_casual, dtype: int64"
      ]
     },
     "execution_count": 21,
     "metadata": {},
     "output_type": "execute_result"
    }
   ],
   "source": [
    "df.member_casual.value_counts()"
   ]
  },
  {
   "cell_type": "code",
   "execution_count": 150,
   "id": "0be9c3b0",
   "metadata": {},
   "outputs": [],
   "source": [
    "# https://stackoverflow.com/questions/52007139/get-the-average-date-from-multiple-dates-pandas\n",
    "# https://stackoverflow.com/questions/54813811/how-to-compute-the-average-time-in-python-pandas\n",
    "casual = df[df.member_casual == 'casual']\n",
    "member = df[df.member_casual == 'member']"
   ]
  },
  {
   "cell_type": "code",
   "execution_count": 61,
   "id": "17ca93b4",
   "metadata": {},
   "outputs": [
    {
     "name": "stdout",
     "output_type": "stream",
     "text": [
      "Mode riding time: 23:59\n"
     ]
    }
   ],
   "source": [
    "print(\"Mode riding time: {}\" .format(pd.Series(pd.to_datetime(df.riding_time_hm_int.max())).dt.time.astype(str).str[:5][0]))"
   ]
  },
  {
   "cell_type": "code",
   "execution_count": 68,
   "id": "c5ee1aed",
   "metadata": {},
   "outputs": [
    {
     "name": "stdout",
     "output_type": "stream",
     "text": [
      "2021-11-03 00:06:25    4703\n",
      "2021-11-03 00:06:04    4687\n",
      "2021-11-03 00:06:17    4681\n",
      "2021-11-03 00:05:58    4667\n",
      "2021-11-03 00:05:52    4667\n",
      "Name: riding_time_int, dtype: int64\n",
      "\n",
      "2021-11-03 00:06:00    273300\n",
      "2021-11-03 00:05:00    267862\n",
      "2021-11-03 00:07:00    266523\n",
      "2021-11-03 00:08:00    253850\n",
      "2021-11-03 00:04:00    245759\n",
      "Name: riding_time_hm_int, dtype: int64\n"
     ]
    }
   ],
   "source": [
    "print(pd.to_datetime(df.riding_time_int).value_counts().head())\n",
    "print('')\n",
    "print(pd.to_datetime(df.riding_time_hm_int).value_counts().head())\n"
   ]
  },
  {
   "cell_type": "code",
   "execution_count": 77,
   "id": "a7c3fa77",
   "metadata": {},
   "outputs": [
    {
     "data": {
      "text/plain": [
       "273300"
      ]
     },
     "execution_count": 77,
     "metadata": {},
     "output_type": "execute_result"
    }
   ],
   "source": [
    "len(df[pd.to_datetime(df.riding_time_hm_int) == '00:06:00'])"
   ]
  },
  {
   "cell_type": "code",
   "execution_count": 47,
   "id": "c18c006b",
   "metadata": {},
   "outputs": [
    {
     "name": "stdout",
     "output_type": "stream",
     "text": [
      "Mean, Max, and Mode of ride length:\n",
      "\n",
      "Mean riding time: 00:20:34\n",
      "Max riding time: 23:59:57\n",
      "Mode riding time: 00:06:25\n",
      "\n",
      "-------------------------------------\n",
      "\n",
      "Mean, Max, and Mode of ride days:\n",
      "\n",
      "Mean riding days: 0 days\n",
      "Max riding days: 38 days\n",
      "Mode riding days: 0 days\n"
     ]
    }
   ],
   "source": [
    "print('Mean, Max, and Mode of ride length:')\n",
    "\n",
    "print(\"\\nMean riding time: {}\" .format(pd.Series(pd.to_datetime(df.riding_time_int.mean())).dt.time.astype(str).str[:8][0]))\n",
    "print(\"Max riding time: {}\" .format(pd.Series(pd.to_datetime(df.riding_time_int.max())).dt.time.astype(str).str[:8][0]))\n",
    "print(\"Mode riding time: {}\" .format(pd.Series(pd.to_datetime(df.riding_time_int.mode())).dt.time.astype(str).str[:8][0]))\n",
    "\n",
    "print('\\n-------------------------------------')\n",
    "print('\\nMean, Max, and Mode of ride days:')\n",
    "\n",
    "print(\"\\nMean riding days: {} days\" .format(round(df.riding_days.mean()),2))\n",
    "print(\"Max riding days: {} days\" .format(df.riding_days.max()))\n",
    "print(\"Mode riding days: {} days\" .format(df.riding_days.mode()[0]))"
   ]
  },
  {
   "cell_type": "markdown",
   "id": "f25bd9a4",
   "metadata": {},
   "source": [
    "As most of the riding_days are 0, the mean and mode of riding_days is 0.\n",
    "\n",
    "But it is intersting that 19 days is higher than 2, 3, and 4 days, and 20 days is higher than 5, 6 and 8.\n",
    "\n",
    "Were there any promotions? "
   ]
  },
  {
   "cell_type": "code",
   "execution_count": 52,
   "id": "e06b911b",
   "metadata": {},
   "outputs": [
    {
     "data": {
      "text/plain": [
       "0     5132294\n",
       "1        2884\n",
       "19        316\n",
       "2         177\n",
       "3         105\n",
       "4          77\n",
       "20         75\n",
       "5          54\n",
       "6          37\n",
       "8          36\n",
       "Name: riding_days, dtype: int64"
      ]
     },
     "execution_count": 52,
     "metadata": {},
     "output_type": "execute_result"
    }
   ],
   "source": [
    "df.riding_days.value_counts().head(10)"
   ]
  },
  {
   "cell_type": "markdown",
   "id": "9b0d4c58",
   "metadata": {},
   "source": [
    "### 4-2. Calculate the average ride length for members and casual riders"
   ]
  },
  {
   "cell_type": "code",
   "execution_count": 35,
   "id": "6c43f327",
   "metadata": {},
   "outputs": [
    {
     "name": "stdout",
     "output_type": "stream",
     "text": [
      "Average riding tiem for:\n",
      "\n",
      "casual riders: 00:28:18\n",
      "members: 00:14:01\n"
     ]
    }
   ],
   "source": [
    "print('Average riding tiem for:')\n",
    "print(\"\\ncasual riders: {}\" .format(pd.Series(pd.to_datetime(casual.riding_time_int.mean())).dt.time.astype(str).str[:8][0]))\n",
    "print(\"members: {}\" .format(pd.Series(pd.to_datetime(member.riding_time_int.mean())).dt.time.astype(str).str[:8][0]))"
   ]
  },
  {
   "cell_type": "markdown",
   "id": "027d6727",
   "metadata": {},
   "source": [
    "### 4-3. Calculate the average ride length for users by day of week"
   ]
  },
  {
   "cell_type": "code",
   "execution_count": 406,
   "id": "10967d38",
   "metadata": {},
   "outputs": [
    {
     "name": "stdout",
     "output_type": "stream",
     "text": [
      "Average riding_time for users by day of week: \n"
     ]
    },
    {
     "data": {
      "text/html": [
       "<div>\n",
       "<style scoped>\n",
       "    .dataframe tbody tr th:only-of-type {\n",
       "        vertical-align: middle;\n",
       "    }\n",
       "\n",
       "    .dataframe tbody tr th {\n",
       "        vertical-align: top;\n",
       "    }\n",
       "\n",
       "    .dataframe thead th {\n",
       "        text-align: right;\n",
       "    }\n",
       "</style>\n",
       "<table border=\"1\" class=\"dataframe\">\n",
       "  <thead>\n",
       "    <tr style=\"text-align: right;\">\n",
       "      <th></th>\n",
       "      <th>day_of_week</th>\n",
       "      <th>day_name</th>\n",
       "      <th>riding_time_int</th>\n",
       "    </tr>\n",
       "  </thead>\n",
       "  <tbody>\n",
       "    <tr>\n",
       "      <th>0</th>\n",
       "      <td>0</td>\n",
       "      <td>Monday</td>\n",
       "      <td>00:19:40</td>\n",
       "    </tr>\n",
       "    <tr>\n",
       "      <th>1</th>\n",
       "      <td>1</td>\n",
       "      <td>Tuesday</td>\n",
       "      <td>00:17:59</td>\n",
       "    </tr>\n",
       "    <tr>\n",
       "      <th>2</th>\n",
       "      <td>2</td>\n",
       "      <td>Wednesday</td>\n",
       "      <td>00:18:05</td>\n",
       "    </tr>\n",
       "    <tr>\n",
       "      <th>3</th>\n",
       "      <td>3</td>\n",
       "      <td>Thursday</td>\n",
       "      <td>00:17:33</td>\n",
       "    </tr>\n",
       "    <tr>\n",
       "      <th>4</th>\n",
       "      <td>4</td>\n",
       "      <td>Friday</td>\n",
       "      <td>00:19:29</td>\n",
       "    </tr>\n",
       "    <tr>\n",
       "      <th>5</th>\n",
       "      <td>5</td>\n",
       "      <td>Saturday</td>\n",
       "      <td>00:24:08</td>\n",
       "    </tr>\n",
       "    <tr>\n",
       "      <th>6</th>\n",
       "      <td>6</td>\n",
       "      <td>Sunday</td>\n",
       "      <td>00:25:08</td>\n",
       "    </tr>\n",
       "  </tbody>\n",
       "</table>\n",
       "</div>"
      ],
      "text/plain": [
       "   day_of_week   day_name riding_time_int\n",
       "0            0     Monday        00:19:40\n",
       "1            1    Tuesday        00:17:59\n",
       "2            2  Wednesday        00:18:05\n",
       "3            3   Thursday        00:17:33\n",
       "4            4     Friday        00:19:29\n",
       "5            5   Saturday        00:24:08\n",
       "6            6     Sunday        00:25:08"
      ]
     },
     "execution_count": 406,
     "metadata": {},
     "output_type": "execute_result"
    }
   ],
   "source": [
    "print(\"Average riding_time for users by day of week: \")\n",
    "avg_rt = pd.to_datetime(df.groupby(['day_of_week', 'day_name'])['riding_time_int'].mean()).dt.time.astype(str).str[:8].reset_index()\n",
    "avg_rt"
   ]
  },
  {
   "cell_type": "markdown",
   "id": "0984e990",
   "metadata": {},
   "source": [
    "### 4-4. Calculate the number of rides for users by day of week"
   ]
  },
  {
   "cell_type": "code",
   "execution_count": 407,
   "id": "48fb06de",
   "metadata": {},
   "outputs": [
    {
     "name": "stdout",
     "output_type": "stream",
     "text": [
      "Number of rides for users by day_of_week: \n"
     ]
    },
    {
     "data": {
      "text/html": [
       "<div>\n",
       "<style scoped>\n",
       "    .dataframe tbody tr th:only-of-type {\n",
       "        vertical-align: middle;\n",
       "    }\n",
       "\n",
       "    .dataframe tbody tr th {\n",
       "        vertical-align: top;\n",
       "    }\n",
       "\n",
       "    .dataframe thead th {\n",
       "        text-align: right;\n",
       "    }\n",
       "</style>\n",
       "<table border=\"1\" class=\"dataframe\">\n",
       "  <thead>\n",
       "    <tr style=\"text-align: right;\">\n",
       "      <th></th>\n",
       "      <th>day_of_week</th>\n",
       "      <th>day_name</th>\n",
       "      <th>ride_id</th>\n",
       "    </tr>\n",
       "  </thead>\n",
       "  <tbody>\n",
       "    <tr>\n",
       "      <th>0</th>\n",
       "      <td>0</td>\n",
       "      <td>Monday</td>\n",
       "      <td>642309</td>\n",
       "    </tr>\n",
       "    <tr>\n",
       "      <th>1</th>\n",
       "      <td>1</td>\n",
       "      <td>Tuesday</td>\n",
       "      <td>658378</td>\n",
       "    </tr>\n",
       "    <tr>\n",
       "      <th>2</th>\n",
       "      <td>2</td>\n",
       "      <td>Wednesday</td>\n",
       "      <td>680454</td>\n",
       "    </tr>\n",
       "    <tr>\n",
       "      <th>3</th>\n",
       "      <td>3</td>\n",
       "      <td>Thursday</td>\n",
       "      <td>695262</td>\n",
       "    </tr>\n",
       "    <tr>\n",
       "      <th>4</th>\n",
       "      <td>4</td>\n",
       "      <td>Friday</td>\n",
       "      <td>745342</td>\n",
       "    </tr>\n",
       "    <tr>\n",
       "      <th>5</th>\n",
       "      <td>5</td>\n",
       "      <td>Saturday</td>\n",
       "      <td>924170</td>\n",
       "    </tr>\n",
       "    <tr>\n",
       "      <th>6</th>\n",
       "      <td>6</td>\n",
       "      <td>Sunday</td>\n",
       "      <td>790346</td>\n",
       "    </tr>\n",
       "  </tbody>\n",
       "</table>\n",
       "</div>"
      ],
      "text/plain": [
       "   day_of_week   day_name  ride_id\n",
       "0            0     Monday   642309\n",
       "1            1    Tuesday   658378\n",
       "2            2  Wednesday   680454\n",
       "3            3   Thursday   695262\n",
       "4            4     Friday   745342\n",
       "5            5   Saturday   924170\n",
       "6            6     Sunday   790346"
      ]
     },
     "execution_count": 407,
     "metadata": {},
     "output_type": "execute_result"
    }
   ],
   "source": [
    "print(\"Number of rides for users by day_of_week: \")\n",
    "no_dow = df.groupby(['day_of_week', 'day_name'])['ride_id'].count().reset_index()\n",
    "no_dow"
   ]
  },
  {
   "cell_type": "code",
   "execution_count": 408,
   "id": "1361e6fa",
   "metadata": {},
   "outputs": [
    {
     "name": "stderr",
     "output_type": "stream",
     "text": [
      "C:\\Users\\GIS\\AppData\\Local\\Temp/ipykernel_25104/2856351782.py:2: SettingWithCopyWarning: \n",
      "A value is trying to be set on a copy of a slice from a DataFrame.\n",
      "Try using .loc[row_indexer,col_indexer] = value instead\n",
      "\n",
      "See the caveats in the documentation: https://pandas.pydata.org/pandas-docs/stable/user_guide/indexing.html#returning-a-view-versus-a-copy\n",
      "  users_dow['all_user_count'] = no_dow['ride_id']\n",
      "C:\\Users\\GIS\\AppData\\Local\\Temp/ipykernel_25104/2856351782.py:5: SettingWithCopyWarning: \n",
      "A value is trying to be set on a copy of a slice from a DataFrame.\n",
      "Try using .loc[row_indexer,col_indexer] = value instead\n",
      "\n",
      "See the caveats in the documentation: https://pandas.pydata.org/pandas-docs/stable/user_guide/indexing.html#returning-a-view-versus-a-copy\n",
      "  users_dow['riding_time_int'] = avg_rt['riding_time_int'].str[3:].str.replace(':', '.').astype('float64')\n",
      "D:\\Anaconda3\\lib\\site-packages\\pandas\\core\\frame.py:5039: SettingWithCopyWarning: \n",
      "A value is trying to be set on a copy of a slice from a DataFrame\n",
      "\n",
      "See the caveats in the documentation: https://pandas.pydata.org/pandas-docs/stable/user_guide/indexing.html#returning-a-view-versus-a-copy\n",
      "  return super().rename(\n"
     ]
    },
    {
     "data": {
      "text/html": [
       "<div>\n",
       "<style scoped>\n",
       "    .dataframe tbody tr th:only-of-type {\n",
       "        vertical-align: middle;\n",
       "    }\n",
       "\n",
       "    .dataframe tbody tr th {\n",
       "        vertical-align: top;\n",
       "    }\n",
       "\n",
       "    .dataframe thead th {\n",
       "        text-align: right;\n",
       "    }\n",
       "</style>\n",
       "<table border=\"1\" class=\"dataframe\">\n",
       "  <thead>\n",
       "    <tr style=\"text-align: right;\">\n",
       "      <th></th>\n",
       "      <th>day_of_week</th>\n",
       "      <th>day_name</th>\n",
       "      <th>all_user_rt_mean</th>\n",
       "      <th>all_user_count</th>\n",
       "    </tr>\n",
       "  </thead>\n",
       "  <tbody>\n",
       "    <tr>\n",
       "      <th>0</th>\n",
       "      <td>0</td>\n",
       "      <td>Monday</td>\n",
       "      <td>19.40</td>\n",
       "      <td>642309</td>\n",
       "    </tr>\n",
       "    <tr>\n",
       "      <th>1</th>\n",
       "      <td>1</td>\n",
       "      <td>Tuesday</td>\n",
       "      <td>17.59</td>\n",
       "      <td>658378</td>\n",
       "    </tr>\n",
       "    <tr>\n",
       "      <th>2</th>\n",
       "      <td>2</td>\n",
       "      <td>Wednesday</td>\n",
       "      <td>18.05</td>\n",
       "      <td>680454</td>\n",
       "    </tr>\n",
       "    <tr>\n",
       "      <th>3</th>\n",
       "      <td>3</td>\n",
       "      <td>Thursday</td>\n",
       "      <td>17.33</td>\n",
       "      <td>695262</td>\n",
       "    </tr>\n",
       "    <tr>\n",
       "      <th>4</th>\n",
       "      <td>4</td>\n",
       "      <td>Friday</td>\n",
       "      <td>19.29</td>\n",
       "      <td>745342</td>\n",
       "    </tr>\n",
       "    <tr>\n",
       "      <th>5</th>\n",
       "      <td>5</td>\n",
       "      <td>Saturday</td>\n",
       "      <td>24.08</td>\n",
       "      <td>924170</td>\n",
       "    </tr>\n",
       "    <tr>\n",
       "      <th>6</th>\n",
       "      <td>6</td>\n",
       "      <td>Sunday</td>\n",
       "      <td>25.08</td>\n",
       "      <td>790346</td>\n",
       "    </tr>\n",
       "  </tbody>\n",
       "</table>\n",
       "</div>"
      ],
      "text/plain": [
       "   day_of_week   day_name  all_user_rt_mean  all_user_count\n",
       "0            0     Monday             19.40          642309\n",
       "1            1    Tuesday             17.59          658378\n",
       "2            2  Wednesday             18.05          680454\n",
       "3            3   Thursday             17.33          695262\n",
       "4            4     Friday             19.29          745342\n",
       "5            5   Saturday             24.08          924170\n",
       "6            6     Sunday             25.08          790346"
      ]
     },
     "execution_count": 408,
     "metadata": {},
     "output_type": "execute_result"
    }
   ],
   "source": [
    "users_dow = avg_rt.head(7)\n",
    "users_dow['all_user_count'] = no_dow['ride_id']\n",
    "\n",
    "# Change the format 00:28:28 to 28.28, so I can draw plots \n",
    "users_dow['riding_time_int'] = avg_rt['riding_time_int'].str[3:].str.replace(':', '.').astype('float64')\n",
    "users_dow.rename(columns = {'riding_time_int' : 'all_user_rt_mean'}, inplace=True)\n",
    "users_dow"
   ]
  },
  {
   "cell_type": "code",
   "execution_count": 423,
   "id": "947eb03e",
   "metadata": {},
   "outputs": [],
   "source": [
    "# casual riding time\n",
    "c_rt = casual.groupby(['day_name', 'day_of_week'])['riding_time_int'].mean().reset_index().sort_values(by = 'day_of_week')\n",
    "# casual ride count\n",
    "c_rc = casual.groupby(['day_name', 'day_of_week'])['ride_id'].count().reset_index().sort_values(by = 'day_of_week')\n",
    "\n",
    "# member rideing time\n",
    "m_rt = member.groupby(['day_name', 'day_of_week'])['riding_time_int'].mean().reset_index().sort_values(by = 'day_of_week')\n",
    "# member ride count\n",
    "m_rc = member.groupby(['day_name', 'day_of_week'])['ride_id'].count().reset_index().sort_values(by = 'day_of_week')"
   ]
  },
  {
   "cell_type": "code",
   "execution_count": 424,
   "id": "17940a1d",
   "metadata": {},
   "outputs": [
    {
     "name": "stdout",
     "output_type": "stream",
     "text": [
      "1    266450\n",
      "5    251510\n",
      "6    257308\n",
      "4    274693\n",
      "0    339405\n",
      "2    523875\n",
      "3    445046\n",
      "Name: ride_id, dtype: int64\n",
      "1    375859\n",
      "5    406868\n",
      "6    423146\n",
      "4    420569\n",
      "0    405937\n",
      "2    400295\n",
      "3    345300\n",
      "Name: ride_id, dtype: int64\n"
     ]
    }
   ],
   "source": [
    "print(c_rc.ride_id)\n",
    "print(m_rc.ride_id)"
   ]
  },
  {
   "cell_type": "code",
   "execution_count": 425,
   "id": "ce6dc42e",
   "metadata": {},
   "outputs": [
    {
     "name": "stdout",
     "output_type": "stream",
     "text": [
      "0    642309\n",
      "1    658378\n",
      "2    680454\n",
      "3    695262\n",
      "4    745342\n",
      "5    924170\n",
      "6    790346\n",
      "Name: all_user_count, dtype: int64\n"
     ]
    },
    {
     "data": {
      "text/plain": [
       "1    642309\n",
       "5    658378\n",
       "6    680454\n",
       "4    695262\n",
       "0    745342\n",
       "2    924170\n",
       "3    790346\n",
       "Name: ride_id, dtype: int64"
      ]
     },
     "execution_count": 425,
     "metadata": {},
     "output_type": "execute_result"
    }
   ],
   "source": [
    "print(users_dow.all_user_count)\n",
    "c_rc.ride_id + m_rc.ride_id"
   ]
  },
  {
   "cell_type": "code",
   "execution_count": null,
   "id": "0338701e",
   "metadata": {},
   "outputs": [],
   "source": [
    "# casual riding time mean minutes\n",
    "users_dow['casual_user_rt_mean'] = pd.to_datetime(c_rt.riding_time_int).astype(str).str[14:19].str.replace(':', '.').astype('float64')\n",
    "# casual ride count\n",
    "users_dow['casual_user_count'] = c_rc.ride_id\n",
    "\n",
    "# member riding time mean minutes\n",
    "users_dow['member_user_rt_mean'] = pd.to_datetime(m_rt.riding_time_int).astype(str).str[14:19].str.replace(':', '.').astype('float64')\n",
    "# member ride count\n",
    "users_dow['member_user_count'] = m_rc.ride_id"
   ]
  },
  {
   "cell_type": "code",
   "execution_count": 426,
   "id": "c3ef3561",
   "metadata": {},
   "outputs": [
    {
     "data": {
      "text/html": [
       "<div>\n",
       "<style scoped>\n",
       "    .dataframe tbody tr th:only-of-type {\n",
       "        vertical-align: middle;\n",
       "    }\n",
       "\n",
       "    .dataframe tbody tr th {\n",
       "        vertical-align: top;\n",
       "    }\n",
       "\n",
       "    .dataframe thead th {\n",
       "        text-align: right;\n",
       "    }\n",
       "</style>\n",
       "<table border=\"1\" class=\"dataframe\">\n",
       "  <thead>\n",
       "    <tr style=\"text-align: right;\">\n",
       "      <th></th>\n",
       "      <th>day_of_week</th>\n",
       "      <th>day_name</th>\n",
       "      <th>all_user_rt_mean</th>\n",
       "      <th>all_user_count</th>\n",
       "      <th>casual_user_rt_mean</th>\n",
       "      <th>casual_user_count</th>\n",
       "      <th>member_user_rt_mean</th>\n",
       "      <th>member_user_count</th>\n",
       "    </tr>\n",
       "  </thead>\n",
       "  <tbody>\n",
       "    <tr>\n",
       "      <th>0</th>\n",
       "      <td>0</td>\n",
       "      <td>Monday</td>\n",
       "      <td>19.40</td>\n",
       "      <td>642309</td>\n",
       "      <td>26.23</td>\n",
       "      <td>339405</td>\n",
       "      <td>13.42</td>\n",
       "      <td>405937</td>\n",
       "    </tr>\n",
       "    <tr>\n",
       "      <th>1</th>\n",
       "      <td>1</td>\n",
       "      <td>Tuesday</td>\n",
       "      <td>17.59</td>\n",
       "      <td>658378</td>\n",
       "      <td>28.28</td>\n",
       "      <td>266450</td>\n",
       "      <td>13.26</td>\n",
       "      <td>375859</td>\n",
       "    </tr>\n",
       "    <tr>\n",
       "      <th>2</th>\n",
       "      <td>2</td>\n",
       "      <td>Wednesday</td>\n",
       "      <td>18.05</td>\n",
       "      <td>680454</td>\n",
       "      <td>30.46</td>\n",
       "      <td>523875</td>\n",
       "      <td>15.27</td>\n",
       "      <td>400295</td>\n",
       "    </tr>\n",
       "    <tr>\n",
       "      <th>3</th>\n",
       "      <td>3</td>\n",
       "      <td>Thursday</td>\n",
       "      <td>17.33</td>\n",
       "      <td>695262</td>\n",
       "      <td>32.26</td>\n",
       "      <td>445046</td>\n",
       "      <td>15.45</td>\n",
       "      <td>345300</td>\n",
       "    </tr>\n",
       "    <tr>\n",
       "      <th>4</th>\n",
       "      <td>4</td>\n",
       "      <td>Friday</td>\n",
       "      <td>19.29</td>\n",
       "      <td>745342</td>\n",
       "      <td>24.23</td>\n",
       "      <td>274693</td>\n",
       "      <td>13.05</td>\n",
       "      <td>420569</td>\n",
       "    </tr>\n",
       "    <tr>\n",
       "      <th>5</th>\n",
       "      <td>5</td>\n",
       "      <td>Saturday</td>\n",
       "      <td>24.08</td>\n",
       "      <td>924170</td>\n",
       "      <td>25.52</td>\n",
       "      <td>251510</td>\n",
       "      <td>13.07</td>\n",
       "      <td>406868</td>\n",
       "    </tr>\n",
       "    <tr>\n",
       "      <th>6</th>\n",
       "      <td>6</td>\n",
       "      <td>Sunday</td>\n",
       "      <td>25.08</td>\n",
       "      <td>790346</td>\n",
       "      <td>24.59</td>\n",
       "      <td>257308</td>\n",
       "      <td>13.53</td>\n",
       "      <td>423146</td>\n",
       "    </tr>\n",
       "  </tbody>\n",
       "</table>\n",
       "</div>"
      ],
      "text/plain": [
       "   day_of_week   day_name  all_user_rt_mean  all_user_count  \\\n",
       "0            0     Monday             19.40          642309   \n",
       "1            1    Tuesday             17.59          658378   \n",
       "2            2  Wednesday             18.05          680454   \n",
       "3            3   Thursday             17.33          695262   \n",
       "4            4     Friday             19.29          745342   \n",
       "5            5   Saturday             24.08          924170   \n",
       "6            6     Sunday             25.08          790346   \n",
       "\n",
       "   casual_user_rt_mean  casual_user_count  member_user_rt_mean  \\\n",
       "0                26.23             339405                13.42   \n",
       "1                28.28             266450                13.26   \n",
       "2                30.46             523875                15.27   \n",
       "3                32.26             445046                15.45   \n",
       "4                24.23             274693                13.05   \n",
       "5                25.52             251510                13.07   \n",
       "6                24.59             257308                13.53   \n",
       "\n",
       "   member_user_count  \n",
       "0             405937  \n",
       "1             375859  \n",
       "2             400295  \n",
       "3             345300  \n",
       "4             420569  \n",
       "5             406868  \n",
       "6             423146  "
      ]
     },
     "execution_count": 426,
     "metadata": {},
     "output_type": "execute_result"
    }
   ],
   "source": [
    "users_dow"
   ]
  },
  {
   "cell_type": "markdown",
   "id": "23281e55",
   "metadata": {},
   "source": [
    "# 5. Share\n",
    "List of things to visualise:\n",
    "\n",
    "0. mean, max, and mode of ride time and days - table\n",
    "1. Number of memebers and casual riders - pie chart\n",
    "2. top 5 mode of ridie time and days - histogram\n",
    "3. the average ride length for members and casual riders - bar chart\n",
    "4. the average ride length for users by day of week - line or bar chart\n",
    "5. the number of rides for users by day of week - line or bar chart               \n",
    "---\n",
    "6. the number of members and casuals - pie chart\n",
    "7. rideable_tyle - pie or bar chart\n",
    "8. in which month people ride a bike most - bar chart \n",
    "9. top 5 frequent start and end station - hist\n"
   ]
  },
  {
   "cell_type": "markdown",
   "id": "61bcaa9a",
   "metadata": {},
   "source": [
    "## 5-1. Number of memebers and casual riders "
   ]
  },
  {
   "cell_type": "code",
   "execution_count": 468,
   "id": "25ae1974",
   "metadata": {},
   "outputs": [
    {
     "data": {
      "text/html": [
       "<div>\n",
       "<style scoped>\n",
       "    .dataframe tbody tr th:only-of-type {\n",
       "        vertical-align: middle;\n",
       "    }\n",
       "\n",
       "    .dataframe tbody tr th {\n",
       "        vertical-align: top;\n",
       "    }\n",
       "\n",
       "    .dataframe thead th {\n",
       "        text-align: right;\n",
       "    }\n",
       "</style>\n",
       "<table border=\"1\" class=\"dataframe\">\n",
       "  <thead>\n",
       "    <tr style=\"text-align: right;\">\n",
       "      <th></th>\n",
       "      <th>type</th>\n",
       "      <th>count</th>\n",
       "    </tr>\n",
       "  </thead>\n",
       "  <tbody>\n",
       "    <tr>\n",
       "      <th>0</th>\n",
       "      <td>member</td>\n",
       "      <td>2777974</td>\n",
       "    </tr>\n",
       "    <tr>\n",
       "      <th>1</th>\n",
       "      <td>casual</td>\n",
       "      <td>2358287</td>\n",
       "    </tr>\n",
       "  </tbody>\n",
       "</table>\n",
       "</div>"
      ],
      "text/plain": [
       "     type    count\n",
       "0  member  2777974\n",
       "1  casual  2358287"
      ]
     },
     "execution_count": 468,
     "metadata": {},
     "output_type": "execute_result"
    }
   ],
   "source": [
    "member_types = df.member_casual.value_counts().reset_index()\n",
    "member_types.rename(columns = {'index': 'type', 'member_casual': 'count'}, inplace = True)\n",
    "member_types"
   ]
  },
  {
   "cell_type": "code",
   "execution_count": 481,
   "id": "1d3832d5",
   "metadata": {},
   "outputs": [
    {
     "data": {
      "image/png": "[encoded data removed]",
      "text/plain": [
       "<Figure size 432x288 with 1 Axes>"
      ]
     },
     "metadata": {},
     "output_type": "display_data"
    }
   ],
   "source": [
    "pie_data = member_types['count'].values\n",
    "pie_labels = member_types['type'].values\n",
    "\n",
    "colours = sns.color_palette('pastel')[0:5]\n",
    "\n",
    "plt.pie(x = pie_data, labels = pie_labels, colors = colours, autopct='%.0f%%')\n",
    "plt.show()"
   ]
  },
  {
   "cell_type": "markdown",
   "id": "a9cc6f88",
   "metadata": {},
   "source": [
    "### 5-2. Top 5 frequent of ridie time and days"
   ]
  },
  {
   "cell_type": "code",
   "execution_count": 457,
   "id": "78934383",
   "metadata": {},
   "outputs": [
    {
     "name": "stdout",
     "output_type": "stream",
     "text": [
      "00:08    96832\n",
      "00:09    96780\n",
      "00:07    94687\n",
      "00:10    93343\n",
      "00:11    89681\n",
      "Name: riding_time_hm_int, dtype: int64\n",
      "00:05    188620\n",
      "00:06    183974\n",
      "00:04    182023\n",
      "00:07    171836\n",
      "00:08    157018\n",
      "Name: riding_time_hm_int, dtype: int64\n"
     ]
    }
   ],
   "source": [
    "print(pd.to_datetime(casual.riding_time_hm_int).astype(str).str[11:16].value_counts().head())\n",
    "print(pd.to_datetime(member.riding_time_hm_int).astype(str).str[11:16].value_counts().head())"
   ]
  },
  {
   "cell_type": "code",
   "execution_count": 139,
   "id": "5b7e5132",
   "metadata": {},
   "outputs": [],
   "source": [
    "rt_top_5 = pd.to_datetime(df.riding_time_hm_int).astype(str).str[11:16].value_counts().head()\n",
    "rt_top_5 = pd.DataFrame(rt_top_5).reset_index().rename(columns= {'index' : 'time', 'riding_time_hm_int' : 'count'})"
   ]
  },
  {
   "cell_type": "code",
   "execution_count": 267,
   "id": "63a46f6d",
   "metadata": {},
   "outputs": [
    {
     "data": {
      "image/png": "[encoded data removed]",
      "text/plain": [
       "<Figure size 432x288 with 1 Axes>"
      ]
     },
     "metadata": {
      "needs_background": "light"
     },
     "output_type": "display_data"
    }
   ],
   "source": [
    "chart = sns.barplot(data= rt_top_5, x = 'time', y = 'count')\n",
    "chart.set_title('Top 5 frequent of ride time')\n",
    "chart.set(xlabel = 'Minute', ylabel = 'Count', ylim = (0, 300000))\n",
    "plt.show()"
   ]
  },
  {
   "cell_type": "markdown",
   "id": "86ff62d0",
   "metadata": {},
   "source": [
    "In casual and members"
   ]
  },
  {
   "cell_type": "code",
   "execution_count": 485,
   "id": "ac0b279a",
   "metadata": {},
   "outputs": [],
   "source": [
    "casual_rt_top_5 = pd.to_datetime(casual.riding_time_hm_int).astype(str).str[11:16].value_counts().head()\n",
    "casual_rt_top_5 = pd.DataFrame(casual_rt_top_5).reset_index().rename(columns= {'index' : 'time', 'riding_time_hm_int' : 'count'})\n",
    "\n",
    "member_rt_top_5 = pd.to_datetime(member.riding_time_hm_int).astype(str).str[11:16].value_counts().head()\n",
    "member_rt_top_5 = pd.DataFrame(member_rt_top_5).reset_index().rename(columns= {'index' : 'time', 'riding_time_hm_int' : 'count'})"
   ]
  },
  {
   "cell_type": "code",
   "execution_count": 487,
   "id": "05d09c79",
   "metadata": {},
   "outputs": [
    {
     "data": {
      "image/png": "[encoded data removed]",
      "text/plain": [
       "<Figure size 1080x288 with 2 Axes>"
      ]
     },
     "metadata": {
      "needs_background": "light"
     },
     "output_type": "display_data"
    }
   ],
   "source": [
    "fig, axes = plt.subplots(1, 2, figsize = (15, 4))\n",
    "fig.suptitle('Top 5 frequent of ride time for')\n",
    "\n",
    "sns.barplot(ax = axes[0], data= casual_rt_top_5, x = 'time', y = 'count')\n",
    "axes[0].set_title('Casuals')\n",
    "axes[0].set(xlabel = 'Minute', ylabel = 'Count')\n",
    "\n",
    "sns.barplot(ax = axes[1], data= member_rt_top_5, x = 'time', y = 'count')\n",
    "axes[1].set_title('Members')\n",
    "axes[1].set(xlabel = 'Minute', ylabel = 'Count')\n",
    "\n",
    "plt.show()"
   ]
  },
  {
   "cell_type": "markdown",
   "id": "06768729",
   "metadata": {},
   "source": [
    "### 5-3. Average ride length for members and casual riders"
   ]
  },
  {
   "cell_type": "code",
   "execution_count": null,
   "id": "9b1c857c",
   "metadata": {},
   "outputs": [],
   "source": [
    "print(\"\\ncasual riders: {}\" .format(pd.Series(pd.to_datetime(casual.riding_time_int.mean())).dt.time.astype(str).str[:8][0]))\n",
    "print(\"members: {}\" .format(pd.Series(pd.to_datetime(member.riding_time_int.mean())).dt.time.astype(str).str[:8][0]))"
   ]
  },
  {
   "cell_type": "code",
   "execution_count": 207,
   "id": "3acc40e7",
   "metadata": {},
   "outputs": [
    {
     "data": {
      "text/html": [
       "<div>\n",
       "<style scoped>\n",
       "    .dataframe tbody tr th:only-of-type {\n",
       "        vertical-align: middle;\n",
       "    }\n",
       "\n",
       "    .dataframe tbody tr th {\n",
       "        vertical-align: top;\n",
       "    }\n",
       "\n",
       "    .dataframe thead th {\n",
       "        text-align: right;\n",
       "    }\n",
       "</style>\n",
       "<table border=\"1\" class=\"dataframe\">\n",
       "  <thead>\n",
       "    <tr style=\"text-align: right;\">\n",
       "      <th></th>\n",
       "      <th>type</th>\n",
       "      <th>time</th>\n",
       "      <th>minutes</th>\n",
       "    </tr>\n",
       "  </thead>\n",
       "  <tbody>\n",
       "    <tr>\n",
       "      <th>0</th>\n",
       "      <td>casual</td>\n",
       "      <td>00:28:18</td>\n",
       "      <td>28</td>\n",
       "    </tr>\n",
       "    <tr>\n",
       "      <th>1</th>\n",
       "      <td>member</td>\n",
       "      <td>00:14:01</td>\n",
       "      <td>14</td>\n",
       "    </tr>\n",
       "  </tbody>\n",
       "</table>\n",
       "</div>"
      ],
      "text/plain": [
       "     type      time  minutes\n",
       "0  casual  00:28:18       28\n",
       "1  member  00:14:01       14"
      ]
     },
     "execution_count": 207,
     "metadata": {},
     "output_type": "execute_result"
    }
   ],
   "source": [
    "plt_df = pd.DataFrame(data = {'type' : ['casual', 'member'], 'time' : ['00:28:18', '00:14:01']})\n",
    "plt_df['minutes'] = plt_df.time.str[3:5].astype('int64')\n",
    "plt_df"
   ]
  },
  {
   "cell_type": "code",
   "execution_count": 243,
   "id": "59dbf0f5",
   "metadata": {},
   "outputs": [
    {
     "data": {
      "image/png": "[encoded data removed]",
      "text/plain": [
       "<Figure size 432x288 with 1 Axes>"
      ]
     },
     "metadata": {
      "needs_background": "light"
     },
     "output_type": "display_data"
    }
   ],
   "source": [
    "# casual_rt_mean = pd.Series(pd.to_datetime(casual.riding_time_int.mean())).dt.time.astype(str).str[:8]\n",
    "# member_rt_mean = pd.Series(pd.to_datetime(member.riding_time_int.mean())).dt.time.astype(str).str[:8]\n",
    "chart = sns.barplot(x = plt_df['type'], y = plt_df['minutes'])\n",
    "chart.set_title(\"Average ride length for casuals and members\")\n",
    "chart.set_ylim(0,33)\n",
    "for p in chart.patches:\n",
    "    chart.annotate(\"%.0f\" % p.get_height(), (p.get_x() + p.get_width() / 2., p.get_height()),\n",
    "    ha='center', va='center', fontsize=10, color='black', xytext=(0, 5),\n",
    "    textcoords='offset points')\n",
    "plt.show()"
   ]
  },
  {
   "cell_type": "markdown",
   "id": "b8eee01f",
   "metadata": {},
   "source": [
    "### 5-4. Average ride length for users by day of week - line or bar chart"
   ]
  },
  {
   "cell_type": "code",
   "execution_count": 427,
   "id": "b5472dba",
   "metadata": {},
   "outputs": [
    {
     "data": {
      "image/png": "[encoded data removed]",
      "text/plain": [
       "<Figure size 720x360 with 1 Axes>"
      ]
     },
     "metadata": {
      "needs_background": "light"
     },
     "output_type": "display_data"
    }
   ],
   "source": [
    "fig, axes = plt.subplots(1,1, figsize = (10, 5))\n",
    "chart = sns.barplot(x = users_dow.day_name, y = users_dow.all_user_rt_mean)\n",
    "chart.set_title(\"Average ride length for users by day of week\")\n",
    "chart.set(xlabel = 'Day', ylabel = 'Minute', ylim = (0, 27))\n",
    "plt.show()"
   ]
  },
  {
   "cell_type": "code",
   "execution_count": 456,
   "id": "8bfe3b5e",
   "metadata": {
    "scrolled": true
   },
   "outputs": [
    {
     "data": {
      "image/png": "[encoded data removed]",
      "text/plain": [
       "<Figure size 1080x288 with 2 Axes>"
      ]
     },
     "metadata": {
      "needs_background": "light"
     },
     "output_type": "display_data"
    }
   ],
   "source": [
    "fig, axes = plt.subplots(1,2, figsize = (15, 4))\n",
    "fig.suptitle('Riding time for')\n",
    "\n",
    "sns.lineplot(ax = axes[0], x = users_dow.day_name, y = users_dow.casual_user_rt_mean)\n",
    "axes[0].set_title('Casuals')\n",
    "axes[0].set(xlabel = 'Day', ylabel = 'Minute', ylim = (0, 35))\n",
    "\n",
    "sns.lineplot(ax = axes[1], x = users_dow.day_name, y = users_dow.member_user_rt_mean)\n",
    "axes[1].set_title('Members')\n",
    "axes[1].set(xlabel = 'Day', ylabel = 'Minute', ylim = (0, 35))\n",
    "plt.show()"
   ]
  },
  {
   "cell_type": "markdown",
   "id": "9632d0b3",
   "metadata": {},
   "source": [
    "### 5-5. Number of rides for users by day of week - line or bar chart"
   ]
  },
  {
   "cell_type": "code",
   "execution_count": 447,
   "id": "e8f6f94d",
   "metadata": {},
   "outputs": [
    {
     "data": {
      "image/png": "[encoded data removed]",
      "text/plain": [
       "<Figure size 576x360 with 1 Axes>"
      ]
     },
     "metadata": {
      "needs_background": "light"
     },
     "output_type": "display_data"
    }
   ],
   "source": [
    "fig, axes = plt.subplots(1,1, figsize = (8, 5))\n",
    "\n",
    "# chart = sns.lineplot(x = users_dow.day_name, y = users_dow.all_user_count)\n",
    "chart = sns.barplot(x = users_dow.day_name, y = users_dow.all_user_count)\n",
    "chart.set_title('Number of rides for users by day of week')\n",
    "chart.set(xlabel = \"Day\", ylabel = \"Count\")\n",
    "\n",
    "plt.show()"
   ]
  },
  {
   "cell_type": "markdown",
   "id": "f4290cd1",
   "metadata": {},
   "source": [
    "# Something wrong"
   ]
  },
  {
   "cell_type": "code",
   "execution_count": 493,
   "id": "4e097538",
   "metadata": {},
   "outputs": [
    {
     "name": "stdout",
     "output_type": "stream",
     "text": [
      "    day_name  casual_user_count\n",
      "0     Monday             339405\n",
      "1    Tuesday             266450\n",
      "2  Wednesday             523875\n",
      "3   Thursday             445046\n",
      "4     Friday             274693\n",
      "5   Saturday             251510\n",
      "6     Sunday             257308\n"
     ]
    },
    {
     "data": {
      "text/plain": [
       "day_name\n",
       "Friday       339405\n",
       "Monday       266450\n",
       "Saturday     523875\n",
       "Sunday       445046\n",
       "Thursday     274693\n",
       "Tuesday      251510\n",
       "Wednesday    257308\n",
       "Name: ride_id, dtype: int64"
      ]
     },
     "execution_count": 493,
     "metadata": {},
     "output_type": "execute_result"
    }
   ],
   "source": [
    "print(users_dow[['day_name', 'casual_user_count']])\n",
    "casual.groupby('day_name')['ride_id'].count()"
   ]
  },
  {
   "cell_type": "code",
   "execution_count": 490,
   "id": "272065ac",
   "metadata": {},
   "outputs": [
    {
     "data": {
      "text/plain": [
       "0    642309\n",
       "1    658378\n",
       "2    680454\n",
       "3    695262\n",
       "4    745342\n",
       "5    924170\n",
       "6    790346\n",
       "Name: all_user_count, dtype: int64"
      ]
     },
     "execution_count": 490,
     "metadata": {},
     "output_type": "execute_result"
    }
   ],
   "source": [
    "users_dow.all_user_count"
   ]
  },
  {
   "cell_type": "code",
   "execution_count": 489,
   "id": "40e35d90",
   "metadata": {},
   "outputs": [
    {
     "data": {
      "text/plain": [
       "0    745342\n",
       "1    642309\n",
       "2    924170\n",
       "3    790346\n",
       "4    695262\n",
       "5    658378\n",
       "6    680454\n",
       "dtype: int64"
      ]
     },
     "execution_count": 489,
     "metadata": {},
     "output_type": "execute_result"
    }
   ],
   "source": [
    "users_dow.casual_user_count + users_dow.member_user_count"
   ]
  },
  {
   "cell_type": "code",
   "execution_count": 455,
   "id": "b7b7a322",
   "metadata": {},
   "outputs": [
    {
     "data": {
      "image/png": "[encoded data removed]",
      "text/plain": [
       "<Figure size 1080x288 with 2 Axes>"
      ]
     },
     "metadata": {
      "needs_background": "light"
     },
     "output_type": "display_data"
    }
   ],
   "source": [
    "fig, axes = plt.subplots(1,2, figsize = (15, 4))\n",
    "fig.suptitle('Number of rides by day of week for')\n",
    "\n",
    "sns.lineplot(ax = axes[0], x = users_dow.day_name, y = users_dow.casual_user_count)\n",
    "axes[0].set_title('Casuals')\n",
    "axes[0].set(xlabel = 'Day', ylabel = 'Count', ylim = (0, 550000))\n",
    "\n",
    "sns.lineplot(ax = axes[1], x = users_dow.day_name, y = users_dow.member_user_count)\n",
    "axes[1].set_title('Members')\n",
    "axes[1].set(xlabel = 'Day', ylabel = 'Count', ylim = (0, 550000))\n",
    "plt.show()"
   ]
  },
  {
   "cell_type": "code",
   "execution_count": null,
   "id": "3d8cc7b9",
   "metadata": {},
   "outputs": [],
   "source": []
  },
  {
   "cell_type": "markdown",
   "id": "e7a3215d",
   "metadata": {},
   "source": [
    "# 6. Act "
   ]
  },
  {
   "cell_type": "code",
   "execution_count": null,
   "id": "9e2802d7",
   "metadata": {},
   "outputs": [],
   "source": []
  },
  {
   "cell_type": "code",
   "execution_count": null,
   "id": "59f0d37c",
   "metadata": {},
   "outputs": [],
   "source": []
  },
  {
   "cell_type": "code",
   "execution_count": null,
   "id": "b61edede",
   "metadata": {},
   "outputs": [],
   "source": []
  },
  {
   "cell_type": "code",
   "execution_count": null,
   "id": "30a125a6",
   "metadata": {},
   "outputs": [],
   "source": []
  },
  {
   "cell_type": "code",
   "execution_count": null,
   "id": "5f0de98a",
   "metadata": {},
   "outputs": [],
   "source": []
  },
  {
   "cell_type": "code",
   "execution_count": null,
   "id": "3c575cfd",
   "metadata": {},
   "outputs": [],
   "source": []
  },
  {
   "cell_type": "code",
   "execution_count": null,
   "id": "29502c9c",
   "metadata": {},
   "outputs": [],
   "source": [
    "print('Mean, Max, and Mode of ride length:')\n",
    "\n",
    "rt_mean = pd.Series(pd.to_datetime(df.riding_time_int.mean())).dt.time.astype(str).str[:8]\n",
    "rt_max = pd.Series(pd.to_datetime(df.riding_time_int.max())).dt.time.astype(str).str[:8]\n",
    "rt_mode = pd.Series(pd.to_datetime(df.riding_time_int.mode())).dt.time.astype(str).str[:8]\n",
    "pd.DataFrame(data = {'mean' : rt_mean, 'max' : rt_max, 'mode' : rt_mode})\n",
    "\n",
    "# pd.Series(pd.to_datetime(df.riding_time_int.mean())).dt.time.astype(str).str[:8][0]\n",
    "# pd.Series(pd.to_datetime(df.riding_time_int.max())).dt.time.astype(str).str[:8][0]\n",
    "# pd.Series(pd.to_datetime(df.riding_time_int.mode())).dt.time.astype(str).str[:8][0]\n",
    "\n",
    "# print('\\n-------------------------------------')\n",
    "print('\\nMean, Max, and Mode of ride days:')\n",
    "\n",
    "# print(\"\\nMean riding days: {} days\" .format(round(df.riding_days.mean())))\n",
    "# print(\"Max riding days: {} days\" .format(df.riding_days.max()))\n",
    "# print(\"Mode riding days: {} days\" .format(df.riding_days.mode()[0]))\n",
    "rd_mean = pd.Series(round(df.riding_days.mean()))\n",
    "rd_max = pd.Series(round(df.riding_days.max()))\n",
    "rd_mode = pd.Series(round(df.riding_days.mode()))\n",
    "\n",
    "pd.DataFrame(data = {'mean' : rd_mean, 'max' : rd_max, 'mode' : rd_mode})"
   ]
  }
 ],
 "metadata": {
  "kernelspec": {
   "display_name": "Python 3 (ipykernel)",
   "language": "python",
   "name": "python3"
  },
  "language_info": {
   "codemirror_mode": {
    "name": "ipython",
    "version": 3
   },
   "file_extension": ".py",
   "mimetype": "text/x-python",
   "name": "python",
   "nbconvert_exporter": "python",
   "pygments_lexer": "ipython3",
   "version": "3.8.5"
  }
 },
 "nbformat": 4,
 "nbformat_minor": 5
}
