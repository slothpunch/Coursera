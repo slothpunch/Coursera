{
 "cells": [
  {
   "cell_type": "code",
   "execution_count": 81,
   "id": "eed11fad",
   "metadata": {},
   "outputs": [],
   "source": [
    "import pandas as pd"
   ]
  },
  {
   "cell_type": "code",
   "execution_count": 82,
   "id": "7747379b",
   "metadata": {},
   "outputs": [
    {
     "name": "stdout",
     "output_type": "stream",
     "text": [
      " Volume in drive C has no label.\n",
      " Volume Serial Number is 72D0-BC6E\n",
      "\n",
      " Directory of C:\\Users\\GIS\\Documents\\A.Udemy\\Python\\Coursera\n",
      "\n",
      "01/11/2021  02:10 PM    <DIR>          .\n",
      "01/11/2021  02:10 PM    <DIR>          ..\n",
      "01/11/2021  01:38 PM    <DIR>          .ipynb_checkpoints\n",
      "05/11/2020  12:04 AM        69,333,608 202010-divvy-tripdata.csv\n",
      "05/12/2020  09:08 AM        46,203,255 202011-divvy-tripdata.csv\n",
      "06/01/2021  12:43 AM        25,031,027 202012-divvy-tripdata.csv\n",
      "05/02/2021  08:42 AM        18,391,685 202101-divvy-tripdata.csv\n",
      "10/03/2021  10:41 AM         9,365,975 202102-divvy-tripdata.csv\n",
      "09/04/2021  01:17 AM        43,555,310 202103-divvy-tripdata.csv\n",
      "08/05/2021  01:03 AM        64,035,536 202104-divvy-tripdata.csv\n",
      "12/06/2021  01:34 AM        99,896,575 202105-divvy-tripdata.csv\n",
      "16/07/2021  09:45 AM       136,439,093 202106-divvy-tripdata.csv\n",
      "14/08/2021  04:42 PM       154,040,041 202107-divvy-tripdata.csv\n",
      "03/09/2021  08:09 AM       150,970,305 202108-divvy-tripdata.csv\n",
      "05/10/2021  03:02 AM       141,130,996 202109-divvy-tripdata.csv\n",
      "01/11/2021  02:10 PM             2,373 Case Study 1.ipynb\n",
      "01/11/2021  11:59 AM            25,636 data_pd_concat.ipynb\n",
      "              14 File(s)    958,421,415 bytes\n",
      "               3 Dir(s)  73,733,861,376 bytes free\n"
     ]
    }
   ],
   "source": [
    "%ls"
   ]
  },
  {
   "cell_type": "code",
   "execution_count": 90,
   "id": "dc23f71e",
   "metadata": {
    "scrolled": true
   },
   "outputs": [
    {
     "name": "stdout",
     "output_type": "stream",
     "text": [
      "df1, \n",
      "df2, \n",
      "df3, \n",
      "df4, \n",
      "df5, \n",
      "df6, \n",
      "df7, \n",
      "df8, \n",
      "df9, \n",
      "df10, \n",
      "df11, \n",
      "df12, \n"
     ]
    }
   ],
   "source": [
    "for i in range(1,13):\n",
    "    print('df'+str(i)+', ')"
   ]
  },
  {
   "cell_type": "code",
   "execution_count": 94,
   "id": "64f6e59a",
   "metadata": {},
   "outputs": [
    {
     "name": "stdout",
     "output_type": "stream",
     "text": [
      "<class 'pandas.core.frame.DataFrame'>\n",
      "Int64Index: 5136261 entries, 0 to 756146\n",
      "Data columns (total 13 columns):\n",
      " #   Column              Dtype  \n",
      "---  ------              -----  \n",
      " 0   ride_id             object \n",
      " 1   rideable_type       object \n",
      " 2   started_at          object \n",
      " 3   ended_at            object \n",
      " 4   start_station_name  object \n",
      " 5   start_station_id    object \n",
      " 6   end_station_name    object \n",
      " 7   end_station_id      object \n",
      " 8   start_lat           float64\n",
      " 9   start_lng           float64\n",
      " 10  end_lat             float64\n",
      " 11  end_lng             float64\n",
      " 12  member_casual       object \n",
      "dtypes: float64(4), object(9)\n",
      "memory usage: 548.6+ MB\n"
     ]
    }
   ],
   "source": [
    "df1 = pd.read_csv(\"202010-divvy-tripdata.csv\")\n",
    "df2 = pd.read_csv(\"202011-divvy-tripdata.csv\")\n",
    "df3 = pd.read_csv(\"202012-divvy-tripdata.csv\")\n",
    "df4 = pd.read_csv(\"202101-divvy-tripdata.csv\")\n",
    "df5 = pd.read_csv(\"202102-divvy-tripdata.csv\")\n",
    "df6 = pd.read_csv(\"202103-divvy-tripdata.csv\")\n",
    "df7 = pd.read_csv(\"202104-divvy-tripdata.csv\")\n",
    "df8 = pd.read_csv(\"202105-divvy-tripdata.csv\")\n",
    "df9 = pd.read_csv(\"202106-divvy-tripdata.csv\")\n",
    "df10 = pd.read_csv(\"202107-divvy-tripdata.csv\")\n",
    "df11 = pd.read_csv(\"202108-divvy-tripdata.csv\")\n",
    "df12 = pd.read_csv(\"202109-divvy-tripdata.csv\")\n",
    "\n",
    "df_merge_1 = pd.concat([df1, df2, df3, df4, df5, df6])\n",
    "df_merge_2 = pd.concat([df7, df8, df9, df10, df11, df12])\n",
    "df_merged = pd.concat([df_merge_1, df_merge_2])\n",
    "df_merged.info()"
   ]
  },
  {
   "cell_type": "code",
   "execution_count": 146,
   "id": "0a02d279",
   "metadata": {},
   "outputs": [],
   "source": [
    "# Check if they have any differnet columns in 2020 and 2021 data. \n",
    "df_list = [df1, df2, df3, df4, df5, df6, df7, df8, df9, df10, df11, df12]\n",
    "df_cols = df1.columns\n",
    "\n",
    "for i in range(len(df_list)-1):\n",
    "    for n in range(len(df_cols)):\n",
    "        if df_list[i].columns[n] != df_list[i+1].columns[n]:\n",
    "            print(\"Different\")"
   ]
  },
  {
   "cell_type": "code",
   "execution_count": 95,
   "id": "d4013537",
   "metadata": {},
   "outputs": [
    {
     "data": {
      "text/plain": [
       "ride_id                    0\n",
       "rideable_type              0\n",
       "started_at                 0\n",
       "ended_at                   0\n",
       "start_station_name    523467\n",
       "start_station_id      523781\n",
       "end_station_name      567268\n",
       "end_station_id        567501\n",
       "start_lat                  0\n",
       "start_lng                  0\n",
       "end_lat                 4821\n",
       "end_lng                 4821\n",
       "member_casual              0\n",
       "dtype: int64"
      ]
     },
     "execution_count": 95,
     "metadata": {},
     "output_type": "execute_result"
    }
   ],
   "source": [
    "# Check null values\n",
    "df_merged.isnull().sum()"
   ]
  },
  {
   "cell_type": "code",
   "execution_count": 140,
   "id": "af0709a9",
   "metadata": {
    "scrolled": true
   },
   "outputs": [
    {
     "data": {
      "text/plain": [
       "0"
      ]
     },
     "execution_count": 140,
     "metadata": {},
     "output_type": "execute_result"
    }
   ],
   "source": [
    "df_merged.duplicated(keep = False).sum()"
   ]
  },
  {
   "cell_type": "code",
   "execution_count": 148,
   "id": "53d67e5b",
   "metadata": {},
   "outputs": [],
   "source": [
    "df_merged = df_merged.fillna(\"NULL\")"
   ]
  },
  {
   "cell_type": "code",
   "execution_count": 149,
   "id": "4881c4a7",
   "metadata": {},
   "outputs": [
    {
     "data": {
      "text/plain": [
       "ride_id               0\n",
       "rideable_type         0\n",
       "started_at            0\n",
       "ended_at              0\n",
       "start_station_name    0\n",
       "start_station_id      0\n",
       "end_station_name      0\n",
       "end_station_id        0\n",
       "start_lat             0\n",
       "start_lng             0\n",
       "end_lat               0\n",
       "end_lng               0\n",
       "member_casual         0\n",
       "dtype: int64"
      ]
     },
     "execution_count": 149,
     "metadata": {},
     "output_type": "execute_result"
    }
   ],
   "source": [
    "df_merged.isnull().sum()"
   ]
  },
  {
   "cell_type": "code",
   "execution_count": 144,
   "id": "27daf8fc",
   "metadata": {},
   "outputs": [],
   "source": [
    "df_merged.to_csv(\"Divvy_Trips_202010-202109.csv\", index = False)"
   ]
  },
  {
   "cell_type": "code",
   "execution_count": null,
   "id": "d544c3e5",
   "metadata": {},
   "outputs": [],
   "source": [
    "df_merged[df_merged.duplicated(keep = False)].sort_values('trip_id')"
   ]
  },
  {
   "cell_type": "code",
   "execution_count": null,
   "id": "7a8151bd",
   "metadata": {},
   "outputs": [],
   "source": [
    "df_merged.drop_duplicates(inplace = True)"
   ]
  }
 ],
 "metadata": {
  "kernelspec": {
   "display_name": "Python 3 (ipykernel)",
   "language": "python",
   "name": "python3"
  },
  "language_info": {
   "codemirror_mode": {
    "name": "ipython",
    "version": 3
   },
   "file_extension": ".py",
   "mimetype": "text/x-python",
   "name": "python",
   "nbconvert_exporter": "python",
   "pygments_lexer": "ipython3",
   "version": "3.8.5"
  }
 },
 "nbformat": 4,
 "nbformat_minor": 5
}
